{
 "cells": [
  {
   "cell_type": "code",
   "execution_count": 1,
   "id": "33457f41",
   "metadata": {},
   "outputs": [],
   "source": [
    "import numpy as np"
   ]
  },
  {
   "cell_type": "code",
   "execution_count": 2,
   "id": "f034d55a",
   "metadata": {},
   "outputs": [
    {
     "data": {
      "text/plain": [
       "array([1, 2, 3, 4, 6])"
      ]
     },
     "execution_count": 2,
     "metadata": {},
     "output_type": "execute_result"
    }
   ],
   "source": [
    "np.array([1,2,3,4,6])"
   ]
  },
  {
   "cell_type": "code",
   "execution_count": 3,
   "id": "2321909d",
   "metadata": {},
   "outputs": [
    {
     "data": {
      "text/plain": [
       "numpy.ndarray"
      ]
     },
     "execution_count": 3,
     "metadata": {},
     "output_type": "execute_result"
    }
   ],
   "source": [
    "type(np.array([1,2,3,4,6]))"
   ]
  },
  {
   "cell_type": "code",
   "execution_count": 4,
   "id": "a657b9ee",
   "metadata": {},
   "outputs": [
    {
     "data": {
      "text/plain": [
       "array(['1', '2', '3', '4', '6', 'sudh', '(4+4j)'], dtype='<U11')"
      ]
     },
     "execution_count": 4,
     "metadata": {},
     "output_type": "execute_result"
    }
   ],
   "source": [
    "np.array([1,2,3,4,6,'sudh','(4+4j)'])"
   ]
  },
  {
   "cell_type": "code",
   "execution_count": 5,
   "id": "19f2245c",
   "metadata": {},
   "outputs": [
    {
     "data": {
      "text/plain": [
       "array([1. , 2. , 3. , 4. , 4.5, 6. ])"
      ]
     },
     "execution_count": 5,
     "metadata": {},
     "output_type": "execute_result"
    }
   ],
   "source": [
    "np.array([1,2,3,4,4.5,6.0])"
   ]
  },
  {
   "cell_type": "code",
   "execution_count": 6,
   "id": "f5d507f3",
   "metadata": {},
   "outputs": [
    {
     "data": {
      "text/plain": [
       "array([[1, 3],\n",
       "       [3, 4]])"
      ]
     },
     "execution_count": 6,
     "metadata": {},
     "output_type": "execute_result"
    }
   ],
   "source": [
    "np.array([[1,3],[3,4]])"
   ]
  },
  {
   "cell_type": "code",
   "execution_count": 7,
   "id": "6b420d3f",
   "metadata": {},
   "outputs": [
    {
     "name": "stderr",
     "output_type": "stream",
     "text": [
      "<ipython-input-7-2fc331c0f648>:1: VisibleDeprecationWarning: Creating an ndarray from ragged nested sequences (which is a list-or-tuple of lists-or-tuples-or ndarrays with different lengths or shapes) is deprecated. If you meant to do this, you must specify 'dtype=object' when creating the ndarray.\n",
      "  np.array([[1,3],[3,4],[6,7,8]])\n"
     ]
    },
    {
     "data": {
      "text/plain": [
       "array([list([1, 3]), list([3, 4]), list([6, 7, 8])], dtype=object)"
      ]
     },
     "execution_count": 7,
     "metadata": {},
     "output_type": "execute_result"
    }
   ],
   "source": [
    "np.array([[1,3],[3,4],[6,7,8]])"
   ]
  },
  {
   "cell_type": "code",
   "execution_count": 8,
   "id": "0af379f5",
   "metadata": {},
   "outputs": [
    {
     "data": {
      "text/plain": [
       "array([[1, 3],\n",
       "       [3, 4],\n",
       "       [6, 7]])"
      ]
     },
     "execution_count": 8,
     "metadata": {},
     "output_type": "execute_result"
    }
   ],
   "source": [
    "np.array([[1,3],[3,4],[6,7]])"
   ]
  },
  {
   "cell_type": "code",
   "execution_count": 9,
   "id": "1401f926",
   "metadata": {},
   "outputs": [
    {
     "data": {
      "text/plain": [
       "array([[[1, 3],\n",
       "        [2, 4]],\n",
       "\n",
       "       [[1, 3],\n",
       "        [2, 4]]])"
      ]
     },
     "execution_count": 9,
     "metadata": {},
     "output_type": "execute_result"
    }
   ],
   "source": [
    "np.array([[[1,3],[2,4]],[[1,3],[2,4]]])"
   ]
  },
  {
   "cell_type": "code",
   "execution_count": 11,
   "id": "209c79c9",
   "metadata": {},
   "outputs": [
    {
     "data": {
      "text/plain": [
       "array([[[[1, 2, 3]]]])"
      ]
     },
     "execution_count": 11,
     "metadata": {},
     "output_type": "execute_result"
    }
   ],
   "source": [
    "np.array([1,2,3],ndmin=4)# No of dimension"
   ]
  },
  {
   "cell_type": "code",
   "execution_count": 12,
   "id": "487646ef",
   "metadata": {},
   "outputs": [
    {
     "data": {
      "text/plain": [
       "array([1.+0.j, 2.+0.j, 3.+0.j])"
      ]
     },
     "execution_count": 12,
     "metadata": {},
     "output_type": "execute_result"
    }
   ],
   "source": [
    "np.array([1,2,3],dtype=complex)# Convert all the data in complex"
   ]
  },
  {
   "cell_type": "code",
   "execution_count": 13,
   "id": "40c35a25",
   "metadata": {},
   "outputs": [],
   "source": [
    "# all element of different data tyoess\n",
    "arr=np.array([(1,2),(4,5)],dtype=[('a','<i2'),('b','<i8')])"
   ]
  },
  {
   "cell_type": "code",
   "execution_count": 14,
   "id": "6c64847a",
   "metadata": {},
   "outputs": [
    {
     "data": {
      "text/plain": [
       "array([(1, 2), (4, 5)], dtype=[('a', '<i2'), ('b', '<i8')])"
      ]
     },
     "execution_count": 14,
     "metadata": {},
     "output_type": "execute_result"
    }
   ],
   "source": [
    "arr"
   ]
  },
  {
   "cell_type": "code",
   "execution_count": 15,
   "id": "9c0cf9e1",
   "metadata": {},
   "outputs": [
    {
     "data": {
      "text/plain": [
       "1"
      ]
     },
     "execution_count": 15,
     "metadata": {},
     "output_type": "execute_result"
    }
   ],
   "source": [
    "arr[0][0]"
   ]
  },
  {
   "cell_type": "code",
   "execution_count": 16,
   "id": "e1c6828f",
   "metadata": {},
   "outputs": [
    {
     "data": {
      "text/plain": [
       "numpy.int16"
      ]
     },
     "execution_count": 16,
     "metadata": {},
     "output_type": "execute_result"
    }
   ],
   "source": [
    "type(arr[0][0])"
   ]
  },
  {
   "cell_type": "code",
   "execution_count": 17,
   "id": "d5a572f5",
   "metadata": {},
   "outputs": [
    {
     "data": {
      "text/plain": [
       "numpy.int64"
      ]
     },
     "execution_count": 17,
     "metadata": {},
     "output_type": "execute_result"
    }
   ],
   "source": [
    "type(arr[0][1])"
   ]
  },
  {
   "cell_type": "code",
   "execution_count": 18,
   "id": "26e385f7",
   "metadata": {},
   "outputs": [
    {
     "data": {
      "text/plain": [
       "matrix([[(1, 2), (4, 5)]], dtype=[('a', '<i2'), ('b', '<i8')])"
      ]
     },
     "execution_count": 18,
     "metadata": {},
     "output_type": "execute_result"
    }
   ],
   "source": [
    "   np.mat(arr)"
   ]
  },
  {
   "cell_type": "code",
   "execution_count": 19,
   "id": "6be16c37",
   "metadata": {},
   "outputs": [],
   "source": [
    "arr=np.array([[1,2],[2,3]])"
   ]
  },
  {
   "cell_type": "code",
   "execution_count": 26,
   "id": "6a66c721",
   "metadata": {},
   "outputs": [],
   "source": [
    "# Create Matrix\n",
    "mat=np.mat(arr)"
   ]
  },
  {
   "cell_type": "code",
   "execution_count": 21,
   "id": "6b3f2ceb",
   "metadata": {},
   "outputs": [],
   "source": [
    "l=[3,4,5,6,7]"
   ]
  },
  {
   "cell_type": "code",
   "execution_count": 22,
   "id": "9db70897",
   "metadata": {},
   "outputs": [
    {
     "data": {
      "text/plain": [
       "array([3, 4, 5, 6, 7])"
      ]
     },
     "execution_count": 22,
     "metadata": {},
     "output_type": "execute_result"
    }
   ],
   "source": [
    "np.array(l)# Converrt list into array"
   ]
  },
  {
   "cell_type": "code",
   "execution_count": 23,
   "id": "d2863e2b",
   "metadata": {},
   "outputs": [
    {
     "data": {
      "text/plain": [
       "array([3, 4, 5, 6, 7])"
      ]
     },
     "execution_count": 23,
     "metadata": {},
     "output_type": "execute_result"
    }
   ],
   "source": [
    "np.asarray(l)# Cinvert list into array"
   ]
  },
  {
   "cell_type": "code",
   "execution_count": 24,
   "id": "ab1b45d9",
   "metadata": {},
   "outputs": [
    {
     "data": {
      "text/plain": [
       "array([3, 4, 5, 6, 7])"
      ]
     },
     "execution_count": 24,
     "metadata": {},
     "output_type": "execute_result"
    }
   ],
   "source": [
    "np.asanyarray(l)# Convert list into array"
   ]
  },
  {
   "cell_type": "code",
   "execution_count": 27,
   "id": "981e7f2c",
   "metadata": {},
   "outputs": [
    {
     "data": {
      "text/plain": [
       "matrix([[1, 2],\n",
       "        [2, 3]])"
      ]
     },
     "execution_count": 27,
     "metadata": {},
     "output_type": "execute_result"
    }
   ],
   "source": [
    "np.asanyarray(mat)# as matrix is a type of array only so it  will noyt   convert"
   ]
  },
  {
   "cell_type": "code",
   "execution_count": 28,
   "id": "0f9cbf02",
   "metadata": {},
   "outputs": [
    {
     "data": {
      "text/plain": [
       "array([[1, 2],\n",
       "       [2, 3]])"
      ]
     },
     "execution_count": 28,
     "metadata": {},
     "output_type": "execute_result"
    }
   ],
   "source": [
    "np.asarray(mat)# it will not check and directy convert it into array"
   ]
  },
  {
   "cell_type": "code",
   "execution_count": 29,
   "id": "05b39297",
   "metadata": {},
   "outputs": [
    {
     "data": {
      "text/plain": [
       "matrix([[1, 2],\n",
       "        [2, 3]])"
      ]
     },
     "execution_count": 29,
     "metadata": {},
     "output_type": "execute_result"
    }
   ],
   "source": [
    "np.asanyarray(mat)# it will check whether array ifyes than no need to convert  )"
   ]
  },
  {
   "cell_type": "code",
   "execution_count": 31,
   "id": "a2e49674",
   "metadata": {},
   "outputs": [
    {
     "data": {
      "text/plain": [
       "True"
      ]
     },
     "execution_count": 31,
     "metadata": {},
     "output_type": "execute_result"
    }
   ],
   "source": [
    "issubclass(np.matrix,np.ndarray)# it will check whether matrux is subclass of ndarray"
   ]
  },
  {
   "cell_type": "code",
   "execution_count": 32,
   "id": "c93cf77a",
   "metadata": {},
   "outputs": [
    {
     "data": {
      "text/plain": [
       "array([[1, 2],\n",
       "       [2, 3]])"
      ]
     },
     "execution_count": 32,
     "metadata": {},
     "output_type": "execute_result"
    }
   ],
   "source": [
    "arr"
   ]
  },
  {
   "cell_type": "code",
   "execution_count": 33,
   "id": "f0abf033",
   "metadata": {},
   "outputs": [],
   "source": [
    "a=arr# it will get yupdated when value is cahnged for arr"
   ]
  },
  {
   "cell_type": "code",
   "execution_count": 34,
   "id": "5c873b80",
   "metadata": {},
   "outputs": [],
   "source": [
    "b=np.copy(arr)#it will not get updated when value is changed for arr"
   ]
  },
  {
   "cell_type": "code",
   "execution_count": 35,
   "id": "beee7394",
   "metadata": {},
   "outputs": [],
   "source": [
    "arr[0][0]=67# array is mutable"
   ]
  },
  {
   "cell_type": "code",
   "execution_count": 36,
   "id": "c66f6542",
   "metadata": {},
   "outputs": [
    {
     "data": {
      "text/plain": [
       "array([[67,  2],\n",
       "       [ 2,  3]])"
      ]
     },
     "execution_count": 36,
     "metadata": {},
     "output_type": "execute_result"
    }
   ],
   "source": [
    "a"
   ]
  },
  {
   "cell_type": "code",
   "execution_count": 37,
   "id": "c7f0f442",
   "metadata": {},
   "outputs": [
    {
     "data": {
      "text/plain": [
       "array([[1, 2],\n",
       "       [2, 3]])"
      ]
     },
     "execution_count": 37,
     "metadata": {},
     "output_type": "execute_result"
    }
   ],
   "source": [
    "b"
   ]
  },
  {
   "cell_type": "code",
   "execution_count": 38,
   "id": "57134f3d",
   "metadata": {},
   "outputs": [
    {
     "name": "stdout",
     "output_type": "stream",
     "text": [
      "[67  2]\n",
      "[2 3]\n"
     ]
    }
   ],
   "source": [
    "for i in a:\n",
    "    print(i)"
   ]
  },
  {
   "cell_type": "code",
   "execution_count": 39,
   "id": "b531156b",
   "metadata": {},
   "outputs": [
    {
     "name": "stdout",
     "output_type": "stream",
     "text": [
      "67\n",
      "2\n",
      "2\n",
      "3\n"
     ]
    }
   ],
   "source": [
    "for i in a:\n",
    "    for j in i:\n",
    "        print(j)"
   ]
  },
  {
   "cell_type": "code",
   "execution_count": 40,
   "id": "77ae23d7",
   "metadata": {},
   "outputs": [
    {
     "data": {
      "text/plain": [
       "array([[ True, False, False, False],\n",
       "       [False,  True, False, False],\n",
       "       [False, False,  True, False],\n",
       "       [False, False, False,  True]])"
      ]
     },
     "execution_count": 40,
     "metadata": {},
     "output_type": "execute_result"
    }
   ],
   "source": [
    "np.fromfunction(lambda i,j :i==j,(4,4))"
   ]
  },
  {
   "cell_type": "code",
   "execution_count": 41,
   "id": "9cfb09a5",
   "metadata": {},
   "outputs": [
    {
     "data": {
      "text/plain": [
       "array([[0., 0., 0., 0.],\n",
       "       [0., 1., 2., 3.],\n",
       "       [0., 2., 4., 6.],\n",
       "       [0., 3., 6., 9.]])"
      ]
     },
     "execution_count": 41,
     "metadata": {},
     "output_type": "execute_result"
    }
   ],
   "source": [
    "np.fromfunction(lambda i,j:i*j,(4,4))"
   ]
  },
  {
   "cell_type": "code",
   "execution_count": 42,
   "id": "83779f01",
   "metadata": {},
   "outputs": [
    {
     "data": {
      "text/plain": [
       "array([[1., 0., 0.],\n",
       "       [1., 1., 1.],\n",
       "       [1., 2., 4.]])"
      ]
     },
     "execution_count": 42,
     "metadata": {},
     "output_type": "execute_result"
    }
   ],
   "source": [
    "np.fromfunction(lambda i,j:i**j,(3,3))"
   ]
  },
  {
   "cell_type": "code",
   "execution_count": 43,
   "id": "46a12dad",
   "metadata": {},
   "outputs": [
    {
     "name": "stderr",
     "output_type": "stream",
     "text": [
      "<ipython-input-43-5c31f1d2ce4a>:1: RuntimeWarning: divide by zero encountered in true_divide\n",
      "  np.fromfunction(lambda i,j:i/j,(3,3))\n",
      "<ipython-input-43-5c31f1d2ce4a>:1: RuntimeWarning: invalid value encountered in true_divide\n",
      "  np.fromfunction(lambda i,j:i/j,(3,3))\n"
     ]
    },
    {
     "data": {
      "text/plain": [
       "array([[nan, 0. , 0. ],\n",
       "       [inf, 1. , 0.5],\n",
       "       [inf, 2. , 1. ]])"
      ]
     },
     "execution_count": 43,
     "metadata": {},
     "output_type": "execute_result"
    }
   ],
   "source": [
    "np.fromfunction(lambda i,j:i/j,(3,3))"
   ]
  },
  {
   "cell_type": "code",
   "execution_count": 44,
   "id": "08e253e1",
   "metadata": {},
   "outputs": [
    {
     "data": {
      "text/plain": [
       "[0, 1, 4, 9, 16]"
      ]
     },
     "execution_count": 44,
     "metadata": {},
     "output_type": "execute_result"
    }
   ],
   "source": [
    "[i*i for i in range(5)]"
   ]
  },
  {
   "cell_type": "code",
   "execution_count": 48,
   "id": "f7ffc338",
   "metadata": {},
   "outputs": [],
   "source": [
    "gen=(i*i for i in range(5))"
   ]
  },
  {
   "cell_type": "code",
   "execution_count": 46,
   "id": "dd62f078",
   "metadata": {},
   "outputs": [],
   "source": [
    "def test(x):\n",
    "    yield x"
   ]
  },
  {
   "cell_type": "code",
   "execution_count": 47,
   "id": "64b30310",
   "metadata": {},
   "outputs": [
    {
     "data": {
      "text/plain": [
       "<generator object test at 0x000001314D3ACDD0>"
      ]
     },
     "execution_count": 47,
     "metadata": {},
     "output_type": "execute_result"
    }
   ],
   "source": [
    "test(5)"
   ]
  },
  {
   "cell_type": "code",
   "execution_count": 49,
   "id": "29d5c80b",
   "metadata": {},
   "outputs": [
    {
     "data": {
      "text/plain": [
       "array([ 0,  1,  4,  9, 16])"
      ]
     },
     "execution_count": 49,
     "metadata": {},
     "output_type": "execute_result"
    }
   ],
   "source": [
    "np.fromiter(gen,dtype=int)"
   ]
  },
  {
   "cell_type": "code",
   "execution_count": 51,
   "id": "ca4360b9",
   "metadata": {},
   "outputs": [
    {
     "data": {
      "text/plain": [
       "array([0, 1, 2, 3, 4])"
      ]
     },
     "execution_count": 51,
     "metadata": {},
     "output_type": "execute_result"
    }
   ],
   "source": [
    "np.fromiter(range(5),dtype=int)"
   ]
  },
  {
   "cell_type": "code",
   "execution_count": 56,
   "id": "458a664d",
   "metadata": {},
   "outputs": [
    {
     "data": {
      "text/plain": [
       "array([1, 2, 3, 4, 5, 6])"
      ]
     },
     "execution_count": 56,
     "metadata": {},
     "output_type": "execute_result"
    }
   ],
   "source": [
    "np.fromstring('1,2,3,4,5,6',sep=',',dtype=int)"
   ]
  },
  {
   "cell_type": "code",
   "execution_count": 57,
   "id": "07e9ed91",
   "metadata": {},
   "outputs": [
    {
     "data": {
      "text/plain": [
       "array([ 12,  32,  43,  56,  76,  67,  78, 878])"
      ]
     },
     "execution_count": 57,
     "metadata": {},
     "output_type": "execute_result"
    }
   ],
   "source": [
    "np.fromstring('12 32 43 56 76 67 78 878',sep=' ',dtype=int)"
   ]
  },
  {
   "cell_type": "code",
   "execution_count": 59,
   "id": "0447c031",
   "metadata": {},
   "outputs": [],
   "source": [
    "l=[1,2,4,5,6,7]\n",
    "arr=np.array(l)"
   ]
  },
  {
   "cell_type": "code",
   "execution_count": 63,
   "id": "d0c661d0",
   "metadata": {},
   "outputs": [],
   "source": [
    "arr1=np.array([[1,2,3,4],[2,3,4,5],[4,5,6,7]])"
   ]
  },
  {
   "cell_type": "code",
   "execution_count": 64,
   "id": "902e15d4",
   "metadata": {},
   "outputs": [
    {
     "data": {
      "text/plain": [
       "array([[1, 2, 3, 4],\n",
       "       [2, 3, 4, 5],\n",
       "       [4, 5, 6, 7]])"
      ]
     },
     "execution_count": 64,
     "metadata": {},
     "output_type": "execute_result"
    }
   ],
   "source": [
    "arr1"
   ]
  },
  {
   "cell_type": "code",
   "execution_count": 65,
   "id": "1b9ec158",
   "metadata": {},
   "outputs": [
    {
     "data": {
      "text/plain": [
       "numpy.ndarray"
      ]
     },
     "execution_count": 65,
     "metadata": {},
     "output_type": "execute_result"
    }
   ],
   "source": [
    "type(arr1)"
   ]
  },
  {
   "cell_type": "code",
   "execution_count": 66,
   "id": "efa67987",
   "metadata": {},
   "outputs": [
    {
     "data": {
      "text/plain": [
       "2"
      ]
     },
     "execution_count": 66,
     "metadata": {},
     "output_type": "execute_result"
    }
   ],
   "source": [
    "arr1.ndim# givs the dmension of the array"
   ]
  },
  {
   "cell_type": "code",
   "execution_count": 67,
   "id": "a4340cbc",
   "metadata": {},
   "outputs": [
    {
     "data": {
      "text/plain": [
       "12"
      ]
     },
     "execution_count": 67,
     "metadata": {},
     "output_type": "execute_result"
    }
   ],
   "source": [
    "arr1.size# total element is the array"
   ]
  },
  {
   "cell_type": "code",
   "execution_count": 68,
   "id": "aa3a374d",
   "metadata": {},
   "outputs": [
    {
     "data": {
      "text/plain": [
       "(3, 4)"
      ]
     },
     "execution_count": 68,
     "metadata": {},
     "output_type": "execute_result"
    }
   ],
   "source": [
    "arr1.shape#n*m rows*columns"
   ]
  },
  {
   "cell_type": "code",
   "execution_count": 69,
   "id": "991e6a33",
   "metadata": {},
   "outputs": [
    {
     "data": {
      "text/plain": [
       "dtype('int32')"
      ]
     },
     "execution_count": 69,
     "metadata": {},
     "output_type": "execute_result"
    }
   ],
   "source": [
    "arr1.dtype\n"
   ]
  },
  {
   "cell_type": "code",
   "execution_count": 70,
   "id": "da62df6d",
   "metadata": {},
   "outputs": [],
   "source": [
    "arr2=np.array([[[1,2,3,4],[4,5,6,7]],[[1,2,3,4],[4,5,6,7]]])"
   ]
  },
  {
   "cell_type": "code",
   "execution_count": 71,
   "id": "034cd72a",
   "metadata": {},
   "outputs": [
    {
     "data": {
      "text/plain": [
       "array([[[1, 2, 3, 4],\n",
       "        [4, 5, 6, 7]],\n",
       "\n",
       "       [[1, 2, 3, 4],\n",
       "        [4, 5, 6, 7]]])"
      ]
     },
     "execution_count": 71,
     "metadata": {},
     "output_type": "execute_result"
    }
   ],
   "source": [
    "arr2"
   ]
  },
  {
   "cell_type": "code",
   "execution_count": 73,
   "id": "7e9a041d",
   "metadata": {},
   "outputs": [
    {
     "data": {
      "text/plain": [
       "16"
      ]
     },
     "execution_count": 73,
     "metadata": {},
     "output_type": "execute_result"
    }
   ],
   "source": [
    "arr2.size"
   ]
  },
  {
   "cell_type": "code",
   "execution_count": 74,
   "id": "7d8a24bc",
   "metadata": {},
   "outputs": [
    {
     "data": {
      "text/plain": [
       "(2, 2, 4)"
      ]
     },
     "execution_count": 74,
     "metadata": {},
     "output_type": "execute_result"
    }
   ],
   "source": [
    "arr2.shape"
   ]
  },
  {
   "cell_type": "code",
   "execution_count": 75,
   "id": "f19e5813",
   "metadata": {},
   "outputs": [
    {
     "data": {
      "text/plain": [
       "3"
      ]
     },
     "execution_count": 75,
     "metadata": {},
     "output_type": "execute_result"
    }
   ],
   "source": [
    "arr2.ndim"
   ]
  },
  {
   "cell_type": "code",
   "execution_count": 78,
   "id": "36b5a4d4",
   "metadata": {},
   "outputs": [
    {
     "data": {
      "text/plain": [
       "[0, 1, 2, 3, 4, 5]"
      ]
     },
     "execution_count": 78,
     "metadata": {},
     "output_type": "execute_result"
    }
   ],
   "source": [
    "list(range(6))"
   ]
  },
  {
   "cell_type": "code",
   "execution_count": 79,
   "id": "b718938e",
   "metadata": {},
   "outputs": [
    {
     "data": {
      "text/plain": [
       "array([0., 1., 2., 3., 4., 5., 6.])"
      ]
     },
     "execution_count": 79,
     "metadata": {},
     "output_type": "execute_result"
    }
   ],
   "source": [
    "np.arange(6.6)"
   ]
  },
  {
   "cell_type": "code",
   "execution_count": 81,
   "id": "1623ce31",
   "metadata": {},
   "outputs": [
    {
     "data": {
      "text/plain": [
       "array([6.6, 7.6, 8.6])"
      ]
     },
     "execution_count": 81,
     "metadata": {},
     "output_type": "execute_result"
    }
   ],
   "source": [
    "np.arange(6.6,9)"
   ]
  },
  {
   "cell_type": "code",
   "execution_count": 84,
   "id": "d8c5ac4a",
   "metadata": {},
   "outputs": [
    {
     "data": {
      "text/plain": [
       "array([9. , 8.7, 8.4, 8.1, 7.8, 7.5, 7.2, 6.9, 6.6])"
      ]
     },
     "execution_count": 84,
     "metadata": {},
     "output_type": "execute_result"
    }
   ],
   "source": [
    "np.arange(9,6.6,-.3)#"
   ]
  },
  {
   "cell_type": "code",
   "execution_count": 85,
   "id": "39a23063",
   "metadata": {},
   "outputs": [
    {
     "data": {
      "text/plain": [
       "array([1, 2, 3, 4, 5, 6, 7, 8])"
      ]
     },
     "execution_count": 85,
     "metadata": {},
     "output_type": "execute_result"
    }
   ],
   "source": [
    "np.arange(1,9)"
   ]
  },
  {
   "cell_type": "code",
   "execution_count": 93,
   "id": "c9e17ddf",
   "metadata": {},
   "outputs": [
    {
     "data": {
      "text/plain": [
       "array([3.        , 3.10204082, 3.20408163, 3.30612245, 3.40816327,\n",
       "       3.51020408, 3.6122449 , 3.71428571, 3.81632653, 3.91836735,\n",
       "       4.02040816, 4.12244898, 4.2244898 , 4.32653061, 4.42857143,\n",
       "       4.53061224, 4.63265306, 4.73469388, 4.83673469, 4.93877551,\n",
       "       5.04081633, 5.14285714, 5.24489796, 5.34693878, 5.44897959,\n",
       "       5.55102041, 5.65306122, 5.75510204, 5.85714286, 5.95918367,\n",
       "       6.06122449, 6.16326531, 6.26530612, 6.36734694, 6.46938776,\n",
       "       6.57142857, 6.67346939, 6.7755102 , 6.87755102, 6.97959184,\n",
       "       7.08163265, 7.18367347, 7.28571429, 7.3877551 , 7.48979592,\n",
       "       7.59183673, 7.69387755, 7.79591837, 7.89795918, 8.        ])"
      ]
     },
     "execution_count": 93,
     "metadata": {},
     "output_type": "execute_result"
    }
   ],
   "source": [
    "np.linspace(3,8)# in between line fifty points by default"
   ]
  },
  {
   "cell_type": "code",
   "execution_count": 94,
   "id": "3d89a329",
   "metadata": {},
   "outputs": [
    {
     "data": {
      "text/plain": [
       "array([3.  , 4.25, 5.5 , 6.75, 8.  ])"
      ]
     },
     "execution_count": 94,
     "metadata": {},
     "output_type": "execute_result"
    }
   ],
   "source": [
    "np.linspace(3,8,5)# in between line five datasete"
   ]
  },
  {
   "cell_type": "code",
   "execution_count": 95,
   "id": "fa9c517f",
   "metadata": {},
   "outputs": [
    {
     "data": {
      "text/plain": [
       "array([0., 0., 0., 0., 0.])"
      ]
     },
     "execution_count": 95,
     "metadata": {},
     "output_type": "execute_result"
    }
   ],
   "source": [
    "np.zeros(5)"
   ]
  },
  {
   "cell_type": "code",
   "execution_count": 97,
   "id": "7c0fa183",
   "metadata": {},
   "outputs": [
    {
     "data": {
      "text/plain": [
       "array([[0., 0., 0., 0.],\n",
       "       [0., 0., 0., 0.]])"
      ]
     },
     "execution_count": 97,
     "metadata": {},
     "output_type": "execute_result"
    }
   ],
   "source": [
    "np.zeros((2,4))"
   ]
  },
  {
   "cell_type": "code",
   "execution_count": 98,
   "id": "2a340498",
   "metadata": {},
   "outputs": [
    {
     "data": {
      "text/plain": [
       "array([[[0., 0., 0., 0.],\n",
       "        [0., 0., 0., 0.],\n",
       "        [0., 0., 0., 0.]],\n",
       "\n",
       "       [[0., 0., 0., 0.],\n",
       "        [0., 0., 0., 0.],\n",
       "        [0., 0., 0., 0.]]])"
      ]
     },
     "execution_count": 98,
     "metadata": {},
     "output_type": "execute_result"
    }
   ],
   "source": [
    "np.zeros((2,3,4))"
   ]
  },
  {
   "cell_type": "code",
   "execution_count": 99,
   "id": "b0c6674d",
   "metadata": {},
   "outputs": [
    {
     "data": {
      "text/plain": [
       "array([1., 1., 1., 1.])"
      ]
     },
     "execution_count": 99,
     "metadata": {},
     "output_type": "execute_result"
    }
   ],
   "source": [
    "np.ones(4)"
   ]
  },
  {
   "cell_type": "code",
   "execution_count": 100,
   "id": "423d9615",
   "metadata": {},
   "outputs": [
    {
     "data": {
      "text/plain": [
       "array([[1., 1., 1., 1.],\n",
       "       [1., 1., 1., 1.],\n",
       "       [1., 1., 1., 1.]])"
      ]
     },
     "execution_count": 100,
     "metadata": {},
     "output_type": "execute_result"
    }
   ],
   "source": [
    "np.ones((3,4))"
   ]
  },
  {
   "cell_type": "code",
   "execution_count": 101,
   "id": "dd341292",
   "metadata": {},
   "outputs": [
    {
     "data": {
      "text/plain": [
       "array([1., 1., 1., 1.])"
      ]
     },
     "execution_count": 101,
     "metadata": {},
     "output_type": "execute_result"
    }
   ],
   "source": [
    "np.empty(4)"
   ]
  },
  {
   "cell_type": "code",
   "execution_count": 102,
   "id": "f12d291e",
   "metadata": {},
   "outputs": [
    {
     "data": {
      "text/plain": [
       "array([[1., 2., 3.],\n",
       "       [4., 5., 6.]])"
      ]
     },
     "execution_count": 102,
     "metadata": {},
     "output_type": "execute_result"
    }
   ],
   "source": [
    "np.empty((2,3))"
   ]
  },
  {
   "cell_type": "code",
   "execution_count": 106,
   "id": "cb7f5fd8",
   "metadata": {},
   "outputs": [
    {
     "data": {
      "text/plain": [
       "array([[0., 0., 0., 0.],\n",
       "       [0., 1., 2., 3.],\n",
       "       [0., 2., 4., 6.],\n",
       "       [0., 3., 6., 9.]])"
      ]
     },
     "execution_count": 106,
     "metadata": {},
     "output_type": "execute_result"
    }
   ],
   "source": [
    "np.empty((4,4))"
   ]
  },
  {
   "cell_type": "code",
   "execution_count": 108,
   "id": "d3ab5186",
   "metadata": {},
   "outputs": [
    {
     "data": {
      "text/plain": [
       "array([[1., 0., 0.],\n",
       "       [0., 1., 0.],\n",
       "       [0., 0., 1.]])"
      ]
     },
     "execution_count": 108,
     "metadata": {},
     "output_type": "execute_result"
    }
   ],
   "source": [
    "np.eye(3)#identity matrix"
   ]
  },
  {
   "cell_type": "code",
   "execution_count": 110,
   "id": "3e4ee8b9",
   "metadata": {},
   "outputs": [
    {
     "data": {
      "text/plain": [
       "array([2.        , 2.66666667, 3.33333333, 4.        ])"
      ]
     },
     "execution_count": 110,
     "metadata": {},
     "output_type": "execute_result"
    }
   ],
   "source": [
    "np.linspace(2,4,4)"
   ]
  },
  {
   "cell_type": "code",
   "execution_count": 111,
   "id": "597cb683",
   "metadata": {},
   "outputs": [
    {
     "data": {
      "text/plain": [
       "array([2. , 2.5, 3. , 3.5])"
      ]
     },
     "execution_count": 111,
     "metadata": {},
     "output_type": "execute_result"
    }
   ],
   "source": [
    "np.linspace(2,4,4,endpoint=False)"
   ]
  },
  {
   "cell_type": "code",
   "execution_count": 115,
   "id": "484f2044",
   "metadata": {},
   "outputs": [
    {
     "data": {
      "text/plain": [
       "array([2. , 2.5, 3. , 3.5])"
      ]
     },
     "execution_count": 115,
     "metadata": {},
     "output_type": "execute_result"
    }
   ],
   "source": [
    "np.linspace(2,4,4,endpoint=False,axis=0)"
   ]
  },
  {
   "cell_type": "code",
   "execution_count": 117,
   "id": "479e679a",
   "metadata": {},
   "outputs": [
    {
     "data": {
      "text/plain": [
       "array([[1.  , 1.06, 1.12, 1.18, 1.24, 1.3 , 1.36, 1.42, 1.48, 1.54, 1.6 ,\n",
       "        1.66, 1.72, 1.78, 1.84, 1.9 , 1.96, 2.02, 2.08, 2.14, 2.2 , 2.26,\n",
       "        2.32, 2.38, 2.44, 2.5 , 2.56, 2.62, 2.68, 2.74, 2.8 , 2.86, 2.92,\n",
       "        2.98, 3.04, 3.1 , 3.16, 3.22, 3.28, 3.34, 3.4 , 3.46, 3.52, 3.58,\n",
       "        3.64, 3.7 , 3.76, 3.82, 3.88, 3.94],\n",
       "       [4.  , 4.  , 4.  , 4.  , 4.  , 4.  , 4.  , 4.  , 4.  , 4.  , 4.  ,\n",
       "        4.  , 4.  , 4.  , 4.  , 4.  , 4.  , 4.  , 4.  , 4.  , 4.  , 4.  ,\n",
       "        4.  , 4.  , 4.  , 4.  , 4.  , 4.  , 4.  , 4.  , 4.  , 4.  , 4.  ,\n",
       "        4.  , 4.  , 4.  , 4.  , 4.  , 4.  , 4.  , 4.  , 4.  , 4.  , 4.  ,\n",
       "        4.  , 4.  , 4.  , 4.  , 4.  , 4.  ]])"
      ]
     },
     "execution_count": 117,
     "metadata": {},
     "output_type": "execute_result"
    }
   ],
   "source": [
    "np.linspace([1,4],4,endpoint=False,axis=1)"
   ]
  },
  {
   "cell_type": "code",
   "execution_count": 124,
   "id": "bde9c6ee",
   "metadata": {},
   "outputs": [
    {
     "data": {
      "text/plain": [
       "array([[ 100.        ,  104.81131342,  109.8541142 ,  115.13953993,\n",
       "         120.67926406,  126.48552169,  132.57113656,  138.94954944,\n",
       "         145.63484775,  152.64179672,  159.98587196,  167.68329368,\n",
       "         175.75106249,  184.20699693,  193.06977289,  202.35896477,\n",
       "         212.09508879,  222.29964825,  232.99518105,  244.20530945,\n",
       "         255.95479227,  268.26957953,  281.1768698 ,  294.70517026,\n",
       "         308.88435965,  323.74575428,  339.32217719,  355.64803062,\n",
       "         372.75937203,  390.69399371,  409.49150624,  429.19342601,\n",
       "         449.8432669 ,  471.48663635,  494.17133613,  517.94746792,\n",
       "         542.86754393,  568.9866029 ,  596.36233166,  625.05519253,\n",
       "         655.12855686,  686.648845  ,  719.685673  ,  754.31200634,\n",
       "         790.60432109,  828.64277285,  868.51137375,  910.29817799,\n",
       "         954.09547635, 1000.        ]])"
      ]
     },
     "execution_count": 124,
     "metadata": {},
     "output_type": "execute_result"
    }
   ],
   "source": [
    "np.logspace([2],[3],axis=1)"
   ]
  },
  {
   "cell_type": "code",
   "execution_count": 125,
   "id": "40b2d1f2",
   "metadata": {},
   "outputs": [],
   "source": [
    "d=np.linspace(4,7,40)"
   ]
  },
  {
   "cell_type": "code",
   "execution_count": 126,
   "id": "0098338f",
   "metadata": {},
   "outputs": [
    {
     "data": {
      "text/plain": [
       "array([4.        , 4.07692308, 4.15384615, 4.23076923, 4.30769231,\n",
       "       4.38461538, 4.46153846, 4.53846154, 4.61538462, 4.69230769,\n",
       "       4.76923077, 4.84615385, 4.92307692, 5.        , 5.07692308,\n",
       "       5.15384615, 5.23076923, 5.30769231, 5.38461538, 5.46153846,\n",
       "       5.53846154, 5.61538462, 5.69230769, 5.76923077, 5.84615385,\n",
       "       5.92307692, 6.        , 6.07692308, 6.15384615, 6.23076923,\n",
       "       6.30769231, 6.38461538, 6.46153846, 6.53846154, 6.61538462,\n",
       "       6.69230769, 6.76923077, 6.84615385, 6.92307692, 7.        ])"
      ]
     },
     "execution_count": 126,
     "metadata": {},
     "output_type": "execute_result"
    }
   ],
   "source": [
    "d"
   ]
  },
  {
   "cell_type": "code",
   "execution_count": 127,
   "id": "b6c9826e",
   "metadata": {},
   "outputs": [
    {
     "data": {
      "text/plain": [
       "1"
      ]
     },
     "execution_count": 127,
     "metadata": {},
     "output_type": "execute_result"
    }
   ],
   "source": [
    "d.ndim"
   ]
  },
  {
   "cell_type": "code",
   "execution_count": 128,
   "id": "2611d5a3",
   "metadata": {},
   "outputs": [
    {
     "data": {
      "text/plain": [
       "(40,)"
      ]
     },
     "execution_count": 128,
     "metadata": {},
     "output_type": "execute_result"
    }
   ],
   "source": [
    "d.shape"
   ]
  },
  {
   "cell_type": "code",
   "execution_count": 129,
   "id": "5afc3c2e",
   "metadata": {},
   "outputs": [
    {
     "data": {
      "text/plain": [
       "40"
      ]
     },
     "execution_count": 129,
     "metadata": {},
     "output_type": "execute_result"
    }
   ],
   "source": [
    "d.size"
   ]
  },
  {
   "cell_type": "code",
   "execution_count": 131,
   "id": "c2b7b220",
   "metadata": {},
   "outputs": [
    {
     "data": {
      "text/plain": [
       "array([[4.        ],\n",
       "       [4.07692308],\n",
       "       [4.15384615],\n",
       "       [4.23076923],\n",
       "       [4.30769231],\n",
       "       [4.38461538],\n",
       "       [4.46153846],\n",
       "       [4.53846154],\n",
       "       [4.61538462],\n",
       "       [4.69230769],\n",
       "       [4.76923077],\n",
       "       [4.84615385],\n",
       "       [4.92307692],\n",
       "       [5.        ],\n",
       "       [5.07692308],\n",
       "       [5.15384615],\n",
       "       [5.23076923],\n",
       "       [5.30769231],\n",
       "       [5.38461538],\n",
       "       [5.46153846],\n",
       "       [5.53846154],\n",
       "       [5.61538462],\n",
       "       [5.69230769],\n",
       "       [5.76923077],\n",
       "       [5.84615385],\n",
       "       [5.92307692],\n",
       "       [6.        ],\n",
       "       [6.07692308],\n",
       "       [6.15384615],\n",
       "       [6.23076923],\n",
       "       [6.30769231],\n",
       "       [6.38461538],\n",
       "       [6.46153846],\n",
       "       [6.53846154],\n",
       "       [6.61538462],\n",
       "       [6.69230769],\n",
       "       [6.76923077],\n",
       "       [6.84615385],\n",
       "       [6.92307692],\n",
       "       [7.        ]])"
      ]
     },
     "execution_count": 131,
     "metadata": {},
     "output_type": "execute_result"
    }
   ],
   "source": [
    "d.reshape(40,1)# Reshape the dataarray"
   ]
  },
  {
   "cell_type": "code",
   "execution_count": 133,
   "id": "737ba3f2",
   "metadata": {},
   "outputs": [
    {
     "data": {
      "text/plain": [
       "array([[4.        , 4.07692308, 4.15384615, 4.23076923, 4.30769231,\n",
       "        4.38461538, 4.46153846, 4.53846154, 4.61538462, 4.69230769,\n",
       "        4.76923077, 4.84615385, 4.92307692, 5.        , 5.07692308,\n",
       "        5.15384615, 5.23076923, 5.30769231, 5.38461538, 5.46153846],\n",
       "       [5.53846154, 5.61538462, 5.69230769, 5.76923077, 5.84615385,\n",
       "        5.92307692, 6.        , 6.07692308, 6.15384615, 6.23076923,\n",
       "        6.30769231, 6.38461538, 6.46153846, 6.53846154, 6.61538462,\n",
       "        6.69230769, 6.76923077, 6.84615385, 6.92307692, 7.        ]])"
      ]
     },
     "execution_count": 133,
     "metadata": {},
     "output_type": "execute_result"
    }
   ],
   "source": [
    "d.reshape(2,20)"
   ]
  },
  {
   "cell_type": "code",
   "execution_count": 134,
   "id": "a21839cb",
   "metadata": {},
   "outputs": [
    {
     "data": {
      "text/plain": [
       "array([[[4.        , 4.07692308, 4.15384615, 4.23076923, 4.30769231,\n",
       "         4.38461538, 4.46153846, 4.53846154, 4.61538462, 4.69230769,\n",
       "         4.76923077, 4.84615385, 4.92307692, 5.        , 5.07692308,\n",
       "         5.15384615, 5.23076923, 5.30769231, 5.38461538, 5.46153846]],\n",
       "\n",
       "       [[5.53846154, 5.61538462, 5.69230769, 5.76923077, 5.84615385,\n",
       "         5.92307692, 6.        , 6.07692308, 6.15384615, 6.23076923,\n",
       "         6.30769231, 6.38461538, 6.46153846, 6.53846154, 6.61538462,\n",
       "         6.69230769, 6.76923077, 6.84615385, 6.92307692, 7.        ]]])"
      ]
     },
     "execution_count": 134,
     "metadata": {},
     "output_type": "execute_result"
    }
   ],
   "source": [
    "d.reshape(2,1,20)"
   ]
  },
  {
   "cell_type": "code",
   "execution_count": 135,
   "id": "a0dd4a38",
   "metadata": {},
   "outputs": [
    {
     "data": {
      "text/plain": [
       "array([[[4.        , 4.07692308, 4.15384615, 4.23076923, 4.30769231,\n",
       "         4.38461538, 4.46153846, 4.53846154, 4.61538462, 4.69230769],\n",
       "        [4.76923077, 4.84615385, 4.92307692, 5.        , 5.07692308,\n",
       "         5.15384615, 5.23076923, 5.30769231, 5.38461538, 5.46153846],\n",
       "        [5.53846154, 5.61538462, 5.69230769, 5.76923077, 5.84615385,\n",
       "         5.92307692, 6.        , 6.07692308, 6.15384615, 6.23076923],\n",
       "        [6.30769231, 6.38461538, 6.46153846, 6.53846154, 6.61538462,\n",
       "         6.69230769, 6.76923077, 6.84615385, 6.92307692, 7.        ]]])"
      ]
     },
     "execution_count": 135,
     "metadata": {},
     "output_type": "execute_result"
    }
   ],
   "source": [
    "d.reshape(1,4,10)"
   ]
  },
  {
   "cell_type": "code",
   "execution_count": 140,
   "id": "dd8b087b",
   "metadata": {},
   "outputs": [
    {
     "data": {
      "text/plain": [
       "array([0.95213313, 0.33648607, 0.64492296])"
      ]
     },
     "execution_count": 140,
     "metadata": {},
     "output_type": "execute_result"
    }
   ],
   "source": [
    "# Generate random data\n",
    "np.random.rand(3)# it will create data random based on guassian distribution/normal distribution meand and sd can be anything "
   ]
  },
  {
   "cell_type": "code",
   "execution_count": 141,
   "id": "bf89d1f2",
   "metadata": {},
   "outputs": [
    {
     "data": {
      "text/plain": [
       "array([ 0.21313582,  0.79795053, -0.21776215, -0.29220364,  0.86305199])"
      ]
     },
     "execution_count": 141,
     "metadata": {},
     "output_type": "execute_result"
    }
   ],
   "source": [
    "np.random.randn(5)\n",
    "# it returns from Standard Normal deviatin  means sd=1 mean=0"
   ]
  },
  {
   "cell_type": "code",
   "execution_count": 142,
   "id": "46f17665",
   "metadata": {},
   "outputs": [
    {
     "data": {
      "text/plain": [
       "array([[ 1.12167926, -0.14384904, -0.06281662, -0.6233329 ],\n",
       "       [ 1.81112684,  0.65193248, -0.24552454, -1.11928364],\n",
       "       [ 0.99235017, -2.20014554, -1.78816729,  0.26763176]])"
      ]
     },
     "execution_count": 142,
     "metadata": {},
     "output_type": "execute_result"
    }
   ],
   "source": [
    "np.random.randn(3,4)"
   ]
  },
  {
   "cell_type": "code",
   "execution_count": 143,
   "id": "4d299d0e",
   "metadata": {},
   "outputs": [
    {
     "data": {
      "text/plain": [
       "array([[[-0.39579974, -1.29196182,  0.92864696],\n",
       "        [ 0.7063511 , -0.43240708,  0.11198207]],\n",
       "\n",
       "       [[ 0.02558356, -0.02623503, -1.60024729],\n",
       "        [ 0.11309697, -0.44244254,  0.70462953]]])"
      ]
     },
     "execution_count": 143,
     "metadata": {},
     "output_type": "execute_result"
    }
   ],
   "source": [
    "np.random.randn(2,2,3)"
   ]
  },
  {
   "cell_type": "code",
   "execution_count": 148,
   "id": "1edbc641",
   "metadata": {},
   "outputs": [
    {
     "data": {
      "text/plain": [
       "0"
      ]
     },
     "execution_count": 148,
     "metadata": {},
     "output_type": "execute_result"
    }
   ],
   "source": [
    "np.random.randint(5)# it will give random interger below 5"
   ]
  },
  {
   "cell_type": "code",
   "execution_count": 165,
   "id": "e77df2a6",
   "metadata": {},
   "outputs": [
    {
     "data": {
      "text/plain": [
       "7"
      ]
     },
     "execution_count": 165,
     "metadata": {},
     "output_type": "execute_result"
    }
   ],
   "source": [
    "np.random.randint(5,10)# Data between this range"
   ]
  },
  {
   "cell_type": "code",
   "execution_count": 166,
   "id": "c4c70ef3",
   "metadata": {},
   "outputs": [
    {
     "data": {
      "text/plain": [
       "array([[26, 53, 21, 32],\n",
       "       [50, 32, 50, 44],\n",
       "       [39, 59, 52, 19],\n",
       "       [53, 44, 38, 13]])"
      ]
     },
     "execution_count": 166,
     "metadata": {},
     "output_type": "execute_result"
    }
   ],
   "source": [
    "np.random.randint(5,60,(4,4))"
   ]
  },
  {
   "cell_type": "code",
   "execution_count": 169,
   "id": "872e708c",
   "metadata": {},
   "outputs": [],
   "source": [
    "arr=np.random.randint(3,9,(3,3))# Create an array with eement between 3, 9 abd 3*3 "
   ]
  },
  {
   "cell_type": "code",
   "execution_count": 170,
   "id": "bbb87fc8",
   "metadata": {},
   "outputs": [
    {
     "data": {
      "text/plain": [
       "array([[8, 4, 6],\n",
       "       [6, 3, 3],\n",
       "       [8, 3, 6]])"
      ]
     },
     "execution_count": 170,
     "metadata": {},
     "output_type": "execute_result"
    }
   ],
   "source": [
    "arr"
   ]
  },
  {
   "cell_type": "code",
   "execution_count": 171,
   "id": "f42d324a",
   "metadata": {},
   "outputs": [
    {
     "data": {
      "text/plain": [
       "array([[8, 4, 6, 6, 3, 3, 8, 3, 6]])"
      ]
     },
     "execution_count": 171,
     "metadata": {},
     "output_type": "execute_result"
    }
   ],
   "source": [
    "arr.reshape(1,9)"
   ]
  },
  {
   "cell_type": "code",
   "execution_count": 172,
   "id": "5ad06e16",
   "metadata": {},
   "outputs": [
    {
     "data": {
      "text/plain": [
       "array([[8],\n",
       "       [4],\n",
       "       [6],\n",
       "       [6],\n",
       "       [3],\n",
       "       [3],\n",
       "       [8],\n",
       "       [3],\n",
       "       [6]])"
      ]
     },
     "execution_count": 172,
     "metadata": {},
     "output_type": "execute_result"
    }
   ],
   "source": [
    "arr.reshape(9,1)"
   ]
  },
  {
   "cell_type": "code",
   "execution_count": 173,
   "id": "cd8c61af",
   "metadata": {},
   "outputs": [
    {
     "data": {
      "text/plain": [
       "array([[[8, 4, 6, 6, 3, 3, 8, 3, 6]]])"
      ]
     },
     "execution_count": 173,
     "metadata": {},
     "output_type": "execute_result"
    }
   ],
   "source": [
    "arr.reshape(1,1,9)"
   ]
  },
  {
   "cell_type": "code",
   "execution_count": 174,
   "id": "df1daa79",
   "metadata": {},
   "outputs": [
    {
     "data": {
      "text/plain": [
       "array([[[8],\n",
       "        [4],\n",
       "        [6]],\n",
       "\n",
       "       [[6],\n",
       "        [3],\n",
       "        [3]],\n",
       "\n",
       "       [[8],\n",
       "        [3],\n",
       "        [6]]])"
      ]
     },
     "execution_count": 174,
     "metadata": {},
     "output_type": "execute_result"
    }
   ],
   "source": [
    "arr.reshape(3,3,1)"
   ]
  },
  {
   "cell_type": "code",
   "execution_count": 178,
   "id": "77a09913",
   "metadata": {},
   "outputs": [
    {
     "data": {
      "text/plain": [
       "array([[8, 4, 6],\n",
       "       [6, 3, 3],\n",
       "       [8, 3, 6]])"
      ]
     },
     "execution_count": 178,
     "metadata": {},
     "output_type": "execute_result"
    }
   ],
   "source": [
    "arr.reshape(3,-1)# if negative value then it will take autmoatically from negative value"
   ]
  },
  {
   "cell_type": "code",
   "execution_count": 179,
   "id": "dc96555a",
   "metadata": {},
   "outputs": [
    {
     "data": {
      "text/plain": [
       "8"
      ]
     },
     "execution_count": 179,
     "metadata": {},
     "output_type": "execute_result"
    }
   ],
   "source": [
    "arr.max()# max element out of array"
   ]
  },
  {
   "cell_type": "code",
   "execution_count": 181,
   "id": "44272c41",
   "metadata": {},
   "outputs": [
    {
     "data": {
      "text/plain": [
       "3"
      ]
     },
     "execution_count": 181,
     "metadata": {},
     "output_type": "execute_result"
    }
   ],
   "source": [
    "arr.min()"
   ]
  },
  {
   "cell_type": "code",
   "execution_count": 186,
   "id": "70662fb1",
   "metadata": {},
   "outputs": [],
   "source": [
    "arr=np.random.randint(4,100,(5,5))# Create array 5*5"
   ]
  },
  {
   "cell_type": "code",
   "execution_count": 187,
   "id": "d69fd451",
   "metadata": {},
   "outputs": [
    {
     "data": {
      "text/plain": [
       "array([[97, 83, 67, 90, 27],\n",
       "       [76, 55, 61, 86, 13],\n",
       "       [95, 56, 98, 78, 34],\n",
       "       [92, 99, 82, 14, 79],\n",
       "       [59, 56,  6, 35, 30]])"
      ]
     },
     "execution_count": 187,
     "metadata": {},
     "output_type": "execute_result"
    }
   ],
   "source": [
    "arr"
   ]
  },
  {
   "cell_type": "code",
   "execution_count": 190,
   "id": "e36d15ee",
   "metadata": {},
   "outputs": [
    {
     "data": {
      "text/plain": [
       "array([[14, 79],\n",
       "       [35, 30]])"
      ]
     },
     "execution_count": 190,
     "metadata": {},
     "output_type": "execute_result"
    }
   ],
   "source": [
    "arr[3:,3:]"
   ]
  },
  {
   "cell_type": "code",
   "execution_count": 196,
   "id": "af72e5ac",
   "metadata": {},
   "outputs": [
    {
     "data": {
      "text/plain": [
       "array([[67, 27],\n",
       "       [61, 13],\n",
       "       [98, 34],\n",
       "       [82, 79],\n",
       "       [ 6, 30]])"
      ]
     },
     "execution_count": 196,
     "metadata": {},
     "output_type": "execute_result"
    }
   ],
   "source": [
    "arr[:,[2,4]]# third and fifth column "
   ]
  },
  {
   "cell_type": "code",
   "execution_count": 197,
   "id": "a2be5f2b",
   "metadata": {},
   "outputs": [
    {
     "data": {
      "text/plain": [
       "array([[97, 83, 67, 90, 27],\n",
       "       [76, 55, 61, 86, 13],\n",
       "       [95, 56, 98, 78, 34],\n",
       "       [92, 99, 82, 14, 79],\n",
       "       [59, 56,  6, 35, 30]])"
      ]
     },
     "execution_count": 197,
     "metadata": {},
     "output_type": "execute_result"
    }
   ],
   "source": [
    "arr"
   ]
  },
  {
   "cell_type": "code",
   "execution_count": 198,
   "id": "a4809cfe",
   "metadata": {},
   "outputs": [
    {
     "data": {
      "text/plain": [
       "array([[ True,  True,  True,  True,  True],\n",
       "       [ True,  True,  True,  True,  True],\n",
       "       [ True,  True,  True,  True,  True],\n",
       "       [ True,  True,  True,  True,  True],\n",
       "       [ True,  True, False,  True,  True]])"
      ]
     },
     "execution_count": 198,
     "metadata": {},
     "output_type": "execute_result"
    }
   ],
   "source": [
    "arr>10"
   ]
  },
  {
   "cell_type": "code",
   "execution_count": 200,
   "id": "a8f8bd11",
   "metadata": {},
   "outputs": [
    {
     "data": {
      "text/plain": [
       "array([97, 83, 67, 90, 27, 76, 55, 61, 86, 13, 95, 56, 98, 78, 34, 92, 99,\n",
       "       82, 14, 79, 59, 56, 35, 30])"
      ]
     },
     "execution_count": 200,
     "metadata": {},
     "output_type": "execute_result"
    }
   ],
   "source": [
    "arr[arr>10]# filter data where element is grter than 10 "
   ]
  },
  {
   "cell_type": "code",
   "execution_count": 201,
   "id": "b5c10b94",
   "metadata": {},
   "outputs": [
    {
     "data": {
      "text/plain": [
       "array([[9409, 6889, 4489, 8100,  729],\n",
       "       [5776, 3025, 3721, 7396,  169],\n",
       "       [9025, 3136, 9604, 6084, 1156],\n",
       "       [8464, 9801, 6724,  196, 6241],\n",
       "       [3481, 3136,   36, 1225,  900]])"
      ]
     },
     "execution_count": 201,
     "metadata": {},
     "output_type": "execute_result"
    }
   ],
   "source": [
    "arr*arr"
   ]
  },
  {
   "cell_type": "code",
   "execution_count": 202,
   "id": "9f19da2b",
   "metadata": {},
   "outputs": [],
   "source": [
    "arr1=np.random.randint(2,4,(3,3))"
   ]
  },
  {
   "cell_type": "code",
   "execution_count": 203,
   "id": "223c6177",
   "metadata": {},
   "outputs": [],
   "source": [
    "arr2=np.random.randint(2,4,(3,3))"
   ]
  },
  {
   "cell_type": "code",
   "execution_count": 205,
   "id": "a60dc720",
   "metadata": {},
   "outputs": [
    {
     "data": {
      "text/plain": [
       "array([[2, 2, 3],\n",
       "       [3, 3, 2],\n",
       "       [2, 2, 2]])"
      ]
     },
     "execution_count": 205,
     "metadata": {},
     "output_type": "execute_result"
    }
   ],
   "source": [
    "arr1"
   ]
  },
  {
   "cell_type": "code",
   "execution_count": 206,
   "id": "01fbf5b7",
   "metadata": {},
   "outputs": [
    {
     "data": {
      "text/plain": [
       "array([[3, 2, 2],\n",
       "       [3, 2, 2],\n",
       "       [2, 2, 2]])"
      ]
     },
     "execution_count": 206,
     "metadata": {},
     "output_type": "execute_result"
    }
   ],
   "source": [
    "arr2"
   ]
  },
  {
   "cell_type": "code",
   "execution_count": 207,
   "id": "cb37ee70",
   "metadata": {},
   "outputs": [
    {
     "data": {
      "text/plain": [
       "array([[6, 4, 6],\n",
       "       [9, 6, 4],\n",
       "       [4, 4, 4]])"
      ]
     },
     "execution_count": 207,
     "metadata": {},
     "output_type": "execute_result"
    }
   ],
   "source": [
    "arr1*arr2"
   ]
  },
  {
   "cell_type": "code",
   "execution_count": 208,
   "id": "875e877e",
   "metadata": {},
   "outputs": [
    {
     "data": {
      "text/plain": [
       "array([[18, 14, 14],\n",
       "       [22, 16, 16],\n",
       "       [16, 12, 12]])"
      ]
     },
     "execution_count": 208,
     "metadata": {},
     "output_type": "execute_result"
    }
   ],
   "source": [
    "arr1@arr2# matrix multiplication"
   ]
  },
  {
   "cell_type": "code",
   "execution_count": 209,
   "id": "69941381",
   "metadata": {},
   "outputs": [
    {
     "name": "stderr",
     "output_type": "stream",
     "text": [
      "<ipython-input-209-2e1dc0d9289f>:1: RuntimeWarning: divide by zero encountered in true_divide\n",
      "  arr1/0\n"
     ]
    },
    {
     "data": {
      "text/plain": [
       "array([[inf, inf, inf],\n",
       "       [inf, inf, inf],\n",
       "       [inf, inf, inf]])"
      ]
     },
     "execution_count": 209,
     "metadata": {},
     "output_type": "execute_result"
    }
   ],
   "source": [
    "arr1/0"
   ]
  },
  {
   "cell_type": "code",
   "execution_count": 210,
   "id": "67decc5a",
   "metadata": {},
   "outputs": [
    {
     "data": {
      "text/plain": [
       "array([[4, 4, 9],\n",
       "       [9, 9, 4],\n",
       "       [4, 4, 4]], dtype=int32)"
      ]
     },
     "execution_count": 210,
     "metadata": {},
     "output_type": "execute_result"
    }
   ],
   "source": [
    "arr1**2"
   ]
  },
  {
   "cell_type": "code",
   "execution_count": 211,
   "id": "bf967055",
   "metadata": {},
   "outputs": [],
   "source": [
    "# Broadcasting\n",
    "arr=np.zeros((3,4))"
   ]
  },
  {
   "cell_type": "code",
   "execution_count": 212,
   "id": "9cbad7e9",
   "metadata": {},
   "outputs": [
    {
     "data": {
      "text/plain": [
       "array([[0., 0., 0., 0.],\n",
       "       [0., 0., 0., 0.],\n",
       "       [0., 0., 0., 0.]])"
      ]
     },
     "execution_count": 212,
     "metadata": {},
     "output_type": "execute_result"
    }
   ],
   "source": [
    "arr"
   ]
  },
  {
   "cell_type": "code",
   "execution_count": 214,
   "id": "b724ce0e",
   "metadata": {},
   "outputs": [],
   "source": [
    "a=np.array([1,2,3,4])"
   ]
  },
  {
   "cell_type": "code",
   "execution_count": 215,
   "id": "b212e450",
   "metadata": {},
   "outputs": [
    {
     "data": {
      "text/plain": [
       "array([1, 2, 3, 4])"
      ]
     },
     "execution_count": 215,
     "metadata": {},
     "output_type": "execute_result"
    }
   ],
   "source": [
    "a"
   ]
  },
  {
   "cell_type": "code",
   "execution_count": 216,
   "id": "7b0b6551",
   "metadata": {},
   "outputs": [
    {
     "data": {
      "text/plain": [
       "array([[1., 2., 3., 4.],\n",
       "       [1., 2., 3., 4.],\n",
       "       [1., 2., 3., 4.]])"
      ]
     },
     "execution_count": 216,
     "metadata": {},
     "output_type": "execute_result"
    }
   ],
   "source": [
    "arr+a"
   ]
  },
  {
   "cell_type": "code",
   "execution_count": 217,
   "id": "ff387309",
   "metadata": {},
   "outputs": [
    {
     "data": {
      "text/plain": [
       "array([[5., 5., 5., 5.],\n",
       "       [5., 5., 5., 5.],\n",
       "       [5., 5., 5., 5.]])"
      ]
     },
     "execution_count": 217,
     "metadata": {},
     "output_type": "execute_result"
    }
   ],
   "source": [
    "arr+5"
   ]
  },
  {
   "cell_type": "code",
   "execution_count": 218,
   "id": "3d71e820",
   "metadata": {},
   "outputs": [],
   "source": [
    "b=np.array([5,6,7])"
   ]
  },
  {
   "cell_type": "code",
   "execution_count": 220,
   "id": "279f001b",
   "metadata": {},
   "outputs": [
    {
     "data": {
      "text/plain": [
       "array([[5., 5., 5., 5.],\n",
       "       [6., 6., 6., 6.],\n",
       "       [7., 7., 7., 7.]])"
      ]
     },
     "execution_count": 220,
     "metadata": {},
     "output_type": "execute_result"
    }
   ],
   "source": [
    "b.reshape(3,1)+arr"
   ]
  },
  {
   "cell_type": "code",
   "execution_count": 221,
   "id": "f97633cf",
   "metadata": {},
   "outputs": [
    {
     "data": {
      "text/plain": [
       "array([5, 6, 7])"
      ]
     },
     "execution_count": 221,
     "metadata": {},
     "output_type": "execute_result"
    }
   ],
   "source": [
    "b.T"
   ]
  },
  {
   "cell_type": "code",
   "execution_count": 222,
   "id": "dc2f42b4",
   "metadata": {},
   "outputs": [
    {
     "data": {
      "text/plain": [
       "array([5, 6, 7])"
      ]
     },
     "execution_count": 222,
     "metadata": {},
     "output_type": "execute_result"
    }
   ],
   "source": [
    "b"
   ]
  },
  {
   "cell_type": "code",
   "execution_count": null,
   "id": "2715c11d",
   "metadata": {},
   "outputs": [],
   "source": []
  }
 ],
 "metadata": {
  "kernelspec": {
   "display_name": "Python 3",
   "language": "python",
   "name": "python3"
  },
  "language_info": {
   "codemirror_mode": {
    "name": "ipython",
    "version": 3
   },
   "file_extension": ".py",
   "mimetype": "text/x-python",
   "name": "python",
   "nbconvert_exporter": "python",
   "pygments_lexer": "ipython3",
   "version": "3.8.8"
  }
 },
 "nbformat": 4,
 "nbformat_minor": 5
}
