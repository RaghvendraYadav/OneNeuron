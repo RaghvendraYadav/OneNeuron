{
 "cells": [
  {
   "cell_type": "code",
   "execution_count": 1,
   "id": "463a1aac",
   "metadata": {},
   "outputs": [],
   "source": [
    "class Car:\n",
    "    pass"
   ]
  },
  {
   "cell_type": "code",
   "execution_count": 3,
   "id": "daa4e895",
   "metadata": {},
   "outputs": [],
   "source": [
    "AudiQ7=Car()"
   ]
  },
  {
   "cell_type": "code",
   "execution_count": 4,
   "id": "dc7e352a",
   "metadata": {},
   "outputs": [
    {
     "data": {
      "text/plain": [
       "<__main__.Car at 0x24c040eb1c0>"
      ]
     },
     "execution_count": 4,
     "metadata": {},
     "output_type": "execute_result"
    }
   ],
   "source": [
    "AudiQ7"
   ]
  },
  {
   "cell_type": "code",
   "execution_count": 6,
   "id": "2cc85644",
   "metadata": {},
   "outputs": [],
   "source": [
    "AudiQ7.milage =10\n",
    "AudiQ7.year= 2020\n",
    "AudiQ7.make=345\n",
    "AudiQ7.model='fsdf'"
   ]
  },
  {
   "cell_type": "code",
   "execution_count": 7,
   "id": "3394d0e0",
   "metadata": {},
   "outputs": [
    {
     "data": {
      "text/plain": [
       "10"
      ]
     },
     "execution_count": 7,
     "metadata": {},
     "output_type": "execute_result"
    }
   ],
   "source": [
    "AudiQ7.milage"
   ]
  },
  {
   "cell_type": "code",
   "execution_count": 8,
   "id": "510e25e7",
   "metadata": {},
   "outputs": [
    {
     "data": {
      "text/plain": [
       "2020"
      ]
     },
     "execution_count": 8,
     "metadata": {},
     "output_type": "execute_result"
    }
   ],
   "source": [
    "AudiQ7.year"
   ]
  },
  {
   "cell_type": "code",
   "execution_count": 9,
   "id": "f0761b04",
   "metadata": {},
   "outputs": [],
   "source": [
    "nano=Car()"
   ]
  },
  {
   "cell_type": "code",
   "execution_count": 10,
   "id": "b4027aa3",
   "metadata": {},
   "outputs": [],
   "source": [
    "nano.milage=20\n",
    "nano.year=2021\n",
    "nano.make=234\n",
    "nano.model='shhf'\n",
    "nano.engino=564632246"
   ]
  },
  {
   "cell_type": "code",
   "execution_count": 11,
   "id": "d88e5f9b",
   "metadata": {},
   "outputs": [
    {
     "name": "stdout",
     "output_type": "stream",
     "text": [
      "20 fsdf\n"
     ]
    }
   ],
   "source": [
    "print(nano.milage,AudiQ7.model)"
   ]
  },
  {
   "cell_type": "code",
   "execution_count": 41,
   "id": "e472a744",
   "metadata": {},
   "outputs": [],
   "source": [
    "class Car:\n",
    "    def __init__(self,milage,year,make,model):\n",
    "        self.milage=milage\n",
    "        self.year=year\n",
    "        self.make=make\n",
    "        self.model=model\n",
    "        \n",
    "    def age(a,current_year):\n",
    "        return current_year-a.year\n",
    "    def Milage1(self):\n",
    "        print(self.milage)\n",
    "    def __str__(c):\n",
    "        return \"this ismy car class i executed\""
   ]
  },
  {
   "cell_type": "code",
   "execution_count": 43,
   "id": "4e55ad45",
   "metadata": {},
   "outputs": [
    {
     "data": {
      "text/plain": [
       "2"
      ]
     },
     "execution_count": 43,
     "metadata": {},
     "output_type": "execute_result"
    }
   ],
   "source": [
    "nano1.age(2022)"
   ]
  },
  {
   "cell_type": "code",
   "execution_count": 44,
   "id": "2f821f41",
   "metadata": {},
   "outputs": [
    {
     "name": "stdout",
     "output_type": "stream",
     "text": [
      "20\n"
     ]
    }
   ],
   "source": [
    "nano1.Milage1()"
   ]
  },
  {
   "cell_type": "code",
   "execution_count": 46,
   "id": "e99b0c08",
   "metadata": {},
   "outputs": [
    {
     "name": "stdout",
     "output_type": "stream",
     "text": [
      "this ismy car class i executed\n"
     ]
    }
   ],
   "source": [
    "print(nano1)"
   ]
  },
  {
   "cell_type": "code",
   "execution_count": null,
   "id": "e08f6f28",
   "metadata": {},
   "outputs": [],
   "source": []
  },
  {
   "cell_type": "code",
   "execution_count": 26,
   "id": "8b4994d6",
   "metadata": {},
   "outputs": [
    {
     "ename": "TypeError",
     "evalue": "__init__() missing 4 required positional arguments: 'milage', 'year', 'make', and 'model'",
     "output_type": "error",
     "traceback": [
      "\u001b[1;31m---------------------------------------------------------------------------\u001b[0m",
      "\u001b[1;31mTypeError\u001b[0m                                 Traceback (most recent call last)",
      "\u001b[1;32m<ipython-input-26-6ba301549f9e>\u001b[0m in \u001b[0;36m<module>\u001b[1;34m\u001b[0m\n\u001b[1;32m----> 1\u001b[1;33m \u001b[0mnano1\u001b[0m\u001b[1;33m=\u001b[0m\u001b[0mCar\u001b[0m\u001b[1;33m(\u001b[0m\u001b[1;33m)\u001b[0m\u001b[1;33m\u001b[0m\u001b[1;33m\u001b[0m\u001b[0m\n\u001b[0m",
      "\u001b[1;31mTypeError\u001b[0m: __init__() missing 4 required positional arguments: 'milage', 'year', 'make', and 'model'"
     ]
    }
   ],
   "source": [
    "nano1=Car()"
   ]
  },
  {
   "cell_type": "code",
   "execution_count": 42,
   "id": "757c5529",
   "metadata": {},
   "outputs": [],
   "source": [
    "nano1=Car(20,2020,3344,'fdlghkhb')"
   ]
  },
  {
   "cell_type": "code",
   "execution_count": 16,
   "id": "51d56ad9",
   "metadata": {},
   "outputs": [],
   "source": [
    "audiQ7=Car(21,2021,453833,'apjgjjb')"
   ]
  },
  {
   "cell_type": "code",
   "execution_count": 17,
   "id": "29d30c20",
   "metadata": {},
   "outputs": [
    {
     "data": {
      "text/plain": [
       "20"
      ]
     },
     "execution_count": 17,
     "metadata": {},
     "output_type": "execute_result"
    }
   ],
   "source": [
    "nano1.milage"
   ]
  },
  {
   "cell_type": "code",
   "execution_count": 18,
   "id": "f7b6c982",
   "metadata": {},
   "outputs": [
    {
     "data": {
      "text/plain": [
       "3344"
      ]
     },
     "execution_count": 18,
     "metadata": {},
     "output_type": "execute_result"
    }
   ],
   "source": [
    "nano1.make"
   ]
  },
  {
   "cell_type": "code",
   "execution_count": 70,
   "id": "c7d6275d",
   "metadata": {},
   "outputs": [],
   "source": [
    "class Student:\n",
    "    def __init__(self,name,rollno,joindate,current_topic):\n",
    "        self.name=name\n",
    "        self.rollno=rollno\n",
    "        self.joindate=joindate\n",
    "        self.current_topic=current_topic\n",
    "    def crttopic(self):\n",
    "        print('Current Tpopic in my class is ',self.current_topic)\n",
    "    def str_rollno(self):\n",
    "        if type(self.rollno)==str:\n",
    "            print(\"do Nothing\")\n",
    "        else:\n",
    "            return str(self.rollno)\n",
    "    def name_Parsing(self):\n",
    "        if type(self.name)==list:\n",
    "            for i in self.name:\n",
    "                print('The name is',i)\n",
    "        else:\n",
    "            print('Name is not in the List')\n",
    "        \n",
    "    def duration(self,current_date):\n",
    "        print('The Duration of student in my class is',current_date-self.joindate)\n",
    "    def __str__(self):\n",
    "        print(\"This is student class where they can try to input and fetch the data\")\n",
    "        \n",
    "        \n",
    "    "
   ]
  },
  {
   "cell_type": "code",
   "execution_count": 71,
   "id": "ece78e6b",
   "metadata": {},
   "outputs": [],
   "source": [
    "rag= Student('Raghvendra',436463,2021,'OOPS')"
   ]
  },
  {
   "cell_type": "code",
   "execution_count": 72,
   "id": "4694dc33",
   "metadata": {},
   "outputs": [
    {
     "name": "stdout",
     "output_type": "stream",
     "text": [
      "The Duration of student in my class is 1\n"
     ]
    }
   ],
   "source": [
    "rag.duration(2022)"
   ]
  },
  {
   "cell_type": "code",
   "execution_count": 73,
   "id": "c61fc19b",
   "metadata": {},
   "outputs": [
    {
     "data": {
      "text/plain": [
       "'436463'"
      ]
     },
     "execution_count": 73,
     "metadata": {},
     "output_type": "execute_result"
    }
   ],
   "source": [
    "rag.str_rollno()"
   ]
  },
  {
   "cell_type": "code",
   "execution_count": 74,
   "id": "7bab741b",
   "metadata": {},
   "outputs": [
    {
     "data": {
      "text/plain": [
       "<__main__.Student at 0x24c0535bfa0>"
      ]
     },
     "execution_count": 74,
     "metadata": {},
     "output_type": "execute_result"
    }
   ],
   "source": [
    "rag"
   ]
  },
  {
   "cell_type": "code",
   "execution_count": 76,
   "id": "da1bf5d0",
   "metadata": {},
   "outputs": [],
   "source": [
    "ch=Student(['Anand','Bob','Chetan','Dolly','Jony'],[1,2,3,4,5],2021,'hfegbefhkvkf')"
   ]
  },
  {
   "cell_type": "code",
   "execution_count": 77,
   "id": "ed4acd65",
   "metadata": {},
   "outputs": [
    {
     "name": "stdout",
     "output_type": "stream",
     "text": [
      "The name is Anand\n",
      "The name is Bob\n",
      "The name is Chetan\n",
      "The name is Dolly\n",
      "The name is Jony\n"
     ]
    }
   ],
   "source": [
    "ch.name_Parsing()"
   ]
  },
  {
   "cell_type": "code",
   "execution_count": 1,
   "id": "1f059e53",
   "metadata": {},
   "outputs": [
    {
     "name": "stdout",
     "output_type": "stream",
     "text": [
      "This is first Line\n"
     ]
    }
   ],
   "source": [
    "class Data:\n",
    "    def __init__(self,filename,filetype,date,size):\n",
    "        self.filename=filename\n",
    "        self.filetype=filetype\n",
    "        self.date=date\n",
    "        self.size=size\n",
    "    def file_Open(self):\n",
    "        f=open(self.filename,'w+')\n",
    "        f.write('This is first Line')\n",
    "        f.close()\n",
    "    def file_read(self):\n",
    "        try:\n",
    "            f=open(self.filename,'r')\n",
    "            print(f.read())\n",
    "            f.close()\n",
    "        except Exception as e:\n",
    "            print('Error Type Is :',e)\n",
    "    def File_Append(self):\n",
    "            f=open(self.filename,'a')\n",
    "            f.write('This is the Second Line')\n",
    "            f.close()\n",
    "file1=Data('File1','txt','2021--11','2MB')\n",
    "file1.file_Open()\n",
    "file1.file_read()\n",
    "file1.File_Append()"
   ]
  },
  {
   "cell_type": "code",
   "execution_count": 7,
   "id": "5805b09d",
   "metadata": {},
   "outputs": [],
   "source": [
    "#Level \n",
    "import logging as lg\n",
    "lg.basicConfig(filename='OOPS.log')\n",
    "class Data:\n",
    "    def __init__(self,fileName,fileType,data,size):\n",
    "        self.fileName=fileName\n",
    "        self.fileType=fileType\n",
    "        self.data=data\n",
    "        self.size=size\n",
    "        \n",
    "    def File_Open(self):\n",
    "        try:\n",
    "            with open(self.fileName+self.fileType,'w') as f:\n",
    "                f.write(self.data)\n",
    "        except Exception as e:\n",
    "            self.logging(e)\n",
    "    def File_Read(self):\n",
    "        try:\n",
    "            with open(self.fileName+self.fileType,'r') as f:\n",
    "                f.read()\n",
    "        except Exception as e:\n",
    "            self.logging(e)\n",
    "    def File_Append(self,data):\n",
    "        try:\n",
    "            with open(self.fileName+self.fileType,'a') as f:\n",
    "                f.write(data)\n",
    "        except Exception as e:\n",
    "            self.logging(e)\n",
    "    def logging(self,log):\n",
    "        lg.error(log)\n",
    "d=Data('d','.txt','Hi',2)\n",
    "d.File_Open()\n",
    "d.File_Append('OOPS')\n",
    "        \n",
    "    "
   ]
  },
  {
   "cell_type": "code",
   "execution_count": null,
   "id": "05c0ea75",
   "metadata": {},
   "outputs": [],
   "source": []
  }
 ],
 "metadata": {
  "kernelspec": {
   "display_name": "Python 3",
   "language": "python",
   "name": "python3"
  },
  "language_info": {
   "codemirror_mode": {
    "name": "ipython",
    "version": 3
   },
   "file_extension": ".py",
   "mimetype": "text/x-python",
   "name": "python",
   "nbconvert_exporter": "python",
   "pygments_lexer": "ipython3",
   "version": "3.8.8"
  }
 },
 "nbformat": 4,
 "nbformat_minor": 5
}
