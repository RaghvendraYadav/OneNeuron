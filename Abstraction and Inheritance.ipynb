{
 "cells": [
  {
   "cell_type": "code",
   "execution_count": 2,
   "id": "45231484",
   "metadata": {},
   "outputs": [],
   "source": [
    "class test:\n",
    "    def __init__(self,a,b,c,d):\n",
    "        self.a =a \n",
    "        self.b=b\n",
    "        self.c=c\n",
    "        self.d=d\n",
    "    def test_Custom(self,v):\n",
    "        return v-self.a\n",
    "    def __str__(self):\n",
    "        return('this is my test Code')"
   ]
  },
  {
   "cell_type": "code",
   "execution_count": 3,
   "id": "36f513a4",
   "metadata": {},
   "outputs": [],
   "source": [
    "o=test(4,5,6,7)"
   ]
  },
  {
   "cell_type": "code",
   "execution_count": 4,
   "id": "ac7d9481",
   "metadata": {},
   "outputs": [
    {
     "data": {
      "text/plain": [
       "6"
      ]
     },
     "execution_count": 4,
     "metadata": {},
     "output_type": "execute_result"
    }
   ],
   "source": [
    "o.test_Custom(10)"
   ]
  },
  {
   "cell_type": "code",
   "execution_count": 5,
   "id": "181fa6fe",
   "metadata": {},
   "outputs": [
    {
     "name": "stdout",
     "output_type": "stream",
     "text": [
      "this is my test Code\n"
     ]
    }
   ],
   "source": [
    "print(o)"
   ]
  },
  {
   "cell_type": "code",
   "execution_count": 6,
   "id": "5c295c88",
   "metadata": {},
   "outputs": [],
   "source": [
    "class test:\n",
    "    def __init__(self,a,b,c,d):\n",
    "        self._a =a \n",
    "        self.b=b\n",
    "        self.c=c\n",
    "        self.d=d\n",
    "    def test_Custom(self,v):\n",
    "        return v-self.a\n",
    "    def __str__(self):\n",
    "        return('this is my test Code')"
   ]
  },
  {
   "cell_type": "code",
   "execution_count": 9,
   "id": "4fbe761d",
   "metadata": {},
   "outputs": [],
   "source": [
    "o=test(4,5,6,7)"
   ]
  },
  {
   "cell_type": "code",
   "execution_count": 11,
   "id": "aebde50b",
   "metadata": {},
   "outputs": [
    {
     "data": {
      "text/plain": [
       "4"
      ]
     },
     "execution_count": 11,
     "metadata": {},
     "output_type": "execute_result"
    }
   ],
   "source": [
    "o._a# Protected"
   ]
  },
  {
   "cell_type": "code",
   "execution_count": 14,
   "id": "eb15fb86",
   "metadata": {},
   "outputs": [],
   "source": [
    "class test:\n",
    "    def __init__(self,a,b,c,d):\n",
    "        self.__a =a \n",
    "        self.b=b\n",
    "        self.c=c\n",
    "        self.d=d\n",
    "    def test_Custom(self,v):\n",
    "        return v-self.__a# Private\n",
    "    def __str__(self):\n",
    "        return('this is my test Code')"
   ]
  },
  {
   "cell_type": "code",
   "execution_count": 15,
   "id": "0f6717a9",
   "metadata": {},
   "outputs": [
    {
     "ename": "AttributeError",
     "evalue": "'test' object has no attribute '__a'",
     "output_type": "error",
     "traceback": [
      "\u001b[1;31m---------------------------------------------------------------------------\u001b[0m",
      "\u001b[1;31mAttributeError\u001b[0m                            Traceback (most recent call last)",
      "\u001b[1;32m<ipython-input-15-1e42657c998a>\u001b[0m in \u001b[0;36m<module>\u001b[1;34m\u001b[0m\n\u001b[1;32m----> 1\u001b[1;33m \u001b[0mo\u001b[0m\u001b[1;33m.\u001b[0m\u001b[0m__a\u001b[0m\u001b[1;33m\u001b[0m\u001b[1;33m\u001b[0m\u001b[0m\n\u001b[0m",
      "\u001b[1;31mAttributeError\u001b[0m: 'test' object has no attribute '__a'"
     ]
    }
   ],
   "source": [
    "o.__a"
   ]
  },
  {
   "cell_type": "code",
   "execution_count": 18,
   "id": "cdf3ec74",
   "metadata": {},
   "outputs": [],
   "source": [
    "o=test(4,5,6,7)"
   ]
  },
  {
   "cell_type": "code",
   "execution_count": 19,
   "id": "c2a7c2af",
   "metadata": {},
   "outputs": [
    {
     "data": {
      "text/plain": [
       "4"
      ]
     },
     "execution_count": 19,
     "metadata": {},
     "output_type": "execute_result"
    }
   ],
   "source": [
    "o._test__a# Calling Private Variable"
   ]
  },
  {
   "cell_type": "code",
   "execution_count": 20,
   "id": "d2a1f5a8",
   "metadata": {},
   "outputs": [],
   "source": [
    "#Inheritance"
   ]
  },
  {
   "cell_type": "code",
   "execution_count": 22,
   "id": "4cf4a2b2",
   "metadata": {},
   "outputs": [
    {
     "data": {
      "text/plain": [
       "6"
      ]
     },
     "execution_count": 22,
     "metadata": {},
     "output_type": "execute_result"
    }
   ],
   "source": [
    "class test1(test):# Here Test is the PARENT Class\n",
    "    def __init__(self,j,*args):\n",
    "        super(test1,self).__init__(*args)\n",
    "        self.j=j\n",
    "m=test1(4,5,6,7,8)\n",
    "m.b"
   ]
  },
  {
   "cell_type": "code",
   "execution_count": 23,
   "id": "b2185ddd",
   "metadata": {},
   "outputs": [
    {
     "data": {
      "text/plain": [
       "15"
      ]
     },
     "execution_count": 23,
     "metadata": {},
     "output_type": "execute_result"
    }
   ],
   "source": [
    "m.test_Custom(20)"
   ]
  },
  {
   "cell_type": "code",
   "execution_count": 35,
   "id": "5957bc6a",
   "metadata": {},
   "outputs": [
    {
     "name": "stdout",
     "output_type": "stream",
     "text": [
      "ineuron is estaablish in 2020\n"
     ]
    }
   ],
   "source": [
    "#Single Inheritance\n",
    "class Ineuron:\n",
    "    company_website='https://ineuron.ai'\n",
    "    name='ineuron'\n",
    "    def contact_details(self):\n",
    "        print('Contact us at 1',self.company_website)\n",
    "class DataScience(Ineuron):\n",
    "    def __init__(self):\n",
    "        self.year_of_establish=2020\n",
    "    def est_details(self):\n",
    "        print('{0} is estaablish in {1}'.format(self.name,self.year_of_establish))\n",
    "d = DataScience()\n",
    "d.est_details()"
   ]
  },
  {
   "cell_type": "code",
   "execution_count": 38,
   "id": "c5e161ee",
   "metadata": {},
   "outputs": [
    {
     "name": "stdout",
     "output_type": "stream",
     "text": [
      "Multitasking\n",
      "Name.ineuron\n",
      "Contact us at 1 https://ineuron.ai\n"
     ]
    }
   ],
   "source": [
    "#Multiple Inheritance\n",
    "\n",
    "class OS:\n",
    "    \n",
    "    multitask=True\n",
    "    os_name='Window_OS'\n",
    "    def contact_details(self):\n",
    "        print('Contact us at' ,self.company_website)\n",
    "class Windows(Ineuron,OS):\n",
    "    def __init__(self): \n",
    "        if self.multitask is True:\n",
    "            print(\"Multitasking\")\n",
    "        print('Name.{}'.format(self.name))\n",
    "w=Windows()\n",
    "w.contact_details()"
   ]
  },
  {
   "cell_type": "code",
   "execution_count": 39,
   "id": "c2eb750d",
   "metadata": {},
   "outputs": [
    {
     "name": "stdout",
     "output_type": "stream",
     "text": [
      "Data_Science 10 Ineuron\n"
     ]
    }
   ],
   "source": [
    "#MultlLevver Inheritance\n",
    "class  Ineuron:\n",
    "    no_of_Courses=10\n",
    "class DataScience(Ineuron):\n",
    "    course_Type='Data_Science'\n",
    "class AI(DataScience):\n",
    "    def __init__(self):\n",
    "        self.company='Ineuron'\n",
    "        print(self.course_Type,self.no_of_Courses,self.company)\n",
    "A=AI()"
   ]
  },
  {
   "cell_type": "code",
   "execution_count": null,
   "id": "6d37fec8",
   "metadata": {},
   "outputs": [],
   "source": []
  }
 ],
 "metadata": {
  "kernelspec": {
   "display_name": "Python 3",
   "language": "python",
   "name": "python3"
  },
  "language_info": {
   "codemirror_mode": {
    "name": "ipython",
    "version": 3
   },
   "file_extension": ".py",
   "mimetype": "text/x-python",
   "name": "python",
   "nbconvert_exporter": "python",
   "pygments_lexer": "ipython3",
   "version": "3.8.8"
  }
 },
 "nbformat": 4,
 "nbformat_minor": 5
}
