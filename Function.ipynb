{
 "cells": [
  {
   "cell_type": "code",
   "execution_count": 1,
   "id": "ab04b32d",
   "metadata": {},
   "outputs": [],
   "source": [
    "def test(x,y):\n",
    "    print(x+y)"
   ]
  },
  {
   "cell_type": "code",
   "execution_count": 7,
   "id": "0f886b71",
   "metadata": {},
   "outputs": [
    {
     "name": "stdout",
     "output_type": "stream",
     "text": [
      "9\n"
     ]
    },
    {
     "data": {
      "text/plain": [
       "NoneType"
      ]
     },
     "execution_count": 7,
     "metadata": {},
     "output_type": "execute_result"
    }
   ],
   "source": [
    "type(test(4,5))"
   ]
  },
  {
   "cell_type": "code",
   "execution_count": 3,
   "id": "ea185794",
   "metadata": {},
   "outputs": [],
   "source": [
    "def test1(b,m):\n",
    "    return b*m\n",
    "\n"
   ]
  },
  {
   "cell_type": "code",
   "execution_count": 8,
   "id": "b88e67e8",
   "metadata": {},
   "outputs": [
    {
     "data": {
      "text/plain": [
       "int"
      ]
     },
     "execution_count": 8,
     "metadata": {},
     "output_type": "execute_result"
    }
   ],
   "source": [
    "type(test1(5,89))"
   ]
  },
  {
   "cell_type": "code",
   "execution_count": 9,
   "id": "c251db9b",
   "metadata": {},
   "outputs": [],
   "source": [
    "def test2(x,y,z):\n",
    "    return(x+y)"
   ]
  },
  {
   "cell_type": "code",
   "execution_count": 11,
   "id": "c7766d6a",
   "metadata": {},
   "outputs": [
    {
     "data": {
      "text/plain": [
       "5"
      ]
     },
     "execution_count": 11,
     "metadata": {},
     "output_type": "execute_result"
    }
   ],
   "source": [
    "test2(2,3,0)"
   ]
  },
  {
   "cell_type": "code",
   "execution_count": 18,
   "id": "329ae5dd",
   "metadata": {},
   "outputs": [],
   "source": [
    "def test3(x,y):\n",
    "    return x+y,x*y,x-y# we can give 2 or more return ut the first one will only executee"
   ]
  },
  {
   "cell_type": "code",
   "execution_count": 15,
   "id": "3a105d15",
   "metadata": {},
   "outputs": [
    {
     "data": {
      "text/plain": [
       "tuple"
      ]
     },
     "execution_count": 15,
     "metadata": {},
     "output_type": "execute_result"
    }
   ],
   "source": [
    "type(test3(6,3))"
   ]
  },
  {
   "cell_type": "code",
   "execution_count": 27,
   "id": "1aa94f65",
   "metadata": {},
   "outputs": [],
   "source": [
    "a,b,a=test3(6,3)#override the value of the a so it will print the second a "
   ]
  },
  {
   "cell_type": "code",
   "execution_count": 28,
   "id": "ac2a6d18",
   "metadata": {},
   "outputs": [
    {
     "data": {
      "text/plain": [
       "3"
      ]
     },
     "execution_count": 28,
     "metadata": {},
     "output_type": "execute_result"
    }
   ],
   "source": [
    "a"
   ]
  },
  {
   "cell_type": "code",
   "execution_count": 29,
   "id": "d5cc5d00",
   "metadata": {},
   "outputs": [
    {
     "data": {
      "text/plain": [
       "18"
      ]
     },
     "execution_count": 29,
     "metadata": {},
     "output_type": "execute_result"
    }
   ],
   "source": [
    "b"
   ]
  },
  {
   "cell_type": "code",
   "execution_count": 30,
   "id": "40d4497d",
   "metadata": {},
   "outputs": [
    {
     "data": {
      "text/plain": [
       "3"
      ]
     },
     "execution_count": 30,
     "metadata": {},
     "output_type": "execute_result"
    }
   ],
   "source": [
    "c"
   ]
  },
  {
   "cell_type": "code",
   "execution_count": 31,
   "id": "6d094a9e",
   "metadata": {},
   "outputs": [],
   "source": [
    "def test():\n",
    "    print(\"This is my first Function\")"
   ]
  },
  {
   "cell_type": "code",
   "execution_count": 32,
   "id": "5b6ddb4d",
   "metadata": {},
   "outputs": [
    {
     "name": "stdout",
     "output_type": "stream",
     "text": [
      "This is my first Function\n"
     ]
    }
   ],
   "source": [
    "test()"
   ]
  },
  {
   "cell_type": "code",
   "execution_count": 33,
   "id": "4ec8dd95",
   "metadata": {},
   "outputs": [
    {
     "name": "stdout",
     "output_type": "stream",
     "text": [
      "This is my first Function\n"
     ]
    }
   ],
   "source": [
    "m=test()# print only print the value in console "
   ]
  },
  {
   "cell_type": "code",
   "execution_count": 35,
   "id": "6ebaf16c",
   "metadata": {},
   "outputs": [],
   "source": [
    "def test7():\n",
    "    return \"hello Raghav\""
   ]
  },
  {
   "cell_type": "code",
   "execution_count": 36,
   "id": "0a4fcdfd",
   "metadata": {},
   "outputs": [],
   "source": [
    "p=test7()+\"Yadav\""
   ]
  },
  {
   "cell_type": "code",
   "execution_count": 37,
   "id": "78afcdf5",
   "metadata": {},
   "outputs": [
    {
     "data": {
      "text/plain": [
       "'hello RaghavYadav'"
      ]
     },
     "execution_count": 37,
     "metadata": {},
     "output_type": "execute_result"
    }
   ],
   "source": [
    "p"
   ]
  },
  {
   "cell_type": "code",
   "execution_count": 38,
   "id": "8121e239",
   "metadata": {},
   "outputs": [],
   "source": [
    "def test8(n):\n",
    "    return n*2\n",
    "    "
   ]
  },
  {
   "cell_type": "code",
   "execution_count": 39,
   "id": "85c88522",
   "metadata": {},
   "outputs": [
    {
     "data": {
      "text/plain": [
       "[4, 5, 6, 7, 8, 4, 5, 6, 7, 8]"
      ]
     },
     "execution_count": 39,
     "metadata": {},
     "output_type": "execute_result"
    }
   ],
   "source": [
    "test8([4,5,6,7,8])"
   ]
  },
  {
   "cell_type": "code",
   "execution_count": 44,
   "id": "374c6350",
   "metadata": {},
   "outputs": [],
   "source": [
    "def test9(n):\n",
    "    return n,n*2"
   ]
  },
  {
   "cell_type": "code",
   "execution_count": 45,
   "id": "24944c47",
   "metadata": {},
   "outputs": [],
   "source": [
    "b=test9([4,5,6,7,8])"
   ]
  },
  {
   "cell_type": "code",
   "execution_count": 46,
   "id": "9b87ebcd",
   "metadata": {},
   "outputs": [
    {
     "data": {
      "text/plain": [
       "([4, 5, 6, 7, 8], [4, 5, 6, 7, 8, 4, 5, 6, 7, 8])"
      ]
     },
     "execution_count": 46,
     "metadata": {},
     "output_type": "execute_result"
    }
   ],
   "source": [
    "b"
   ]
  },
  {
   "cell_type": "code",
   "execution_count": 48,
   "id": "f08af3ca",
   "metadata": {},
   "outputs": [],
   "source": [
    "def test10(n,m=30):\n",
    "    return n+m"
   ]
  },
  {
   "cell_type": "code",
   "execution_count": 52,
   "id": "b7d2d00d",
   "metadata": {},
   "outputs": [
    {
     "data": {
      "text/plain": [
       "40"
      ]
     },
     "execution_count": 52,
     "metadata": {},
     "output_type": "execute_result"
    }
   ],
   "source": [
    "test10(10)"
   ]
  },
  {
   "cell_type": "code",
   "execution_count": 53,
   "id": "a1f31425",
   "metadata": {},
   "outputs": [
    {
     "data": {
      "text/plain": [
       "60"
      ]
     },
     "execution_count": 53,
     "metadata": {},
     "output_type": "execute_result"
    }
   ],
   "source": [
    "test10(10,50)"
   ]
  },
  {
   "cell_type": "code",
   "execution_count": 54,
   "id": "cb687efb",
   "metadata": {},
   "outputs": [],
   "source": [
    "def boolx(x=True,y=False):\n",
    "    return x+y"
   ]
  },
  {
   "cell_type": "code",
   "execution_count": 55,
   "id": "1d1cfe46",
   "metadata": {},
   "outputs": [
    {
     "data": {
      "text/plain": [
       "1"
      ]
     },
     "execution_count": 55,
     "metadata": {},
     "output_type": "execute_result"
    }
   ],
   "source": [
    "boolx()"
   ]
  },
  {
   "cell_type": "code",
   "execution_count": 56,
   "id": "4acb0654",
   "metadata": {},
   "outputs": [
    {
     "data": {
      "text/plain": [
       "0"
      ]
     },
     "execution_count": 56,
     "metadata": {},
     "output_type": "execute_result"
    }
   ],
   "source": [
    "boolx(False)"
   ]
  },
  {
   "cell_type": "code",
   "execution_count": 57,
   "id": "246b64be",
   "metadata": {},
   "outputs": [
    {
     "data": {
      "text/plain": [
       "0"
      ]
     },
     "execution_count": 57,
     "metadata": {},
     "output_type": "execute_result"
    }
   ],
   "source": [
    "boolx(0)"
   ]
  },
  {
   "cell_type": "code",
   "execution_count": 60,
   "id": "d04f2a17",
   "metadata": {},
   "outputs": [
    {
     "data": {
      "text/plain": [
       "10"
      ]
     },
     "execution_count": 60,
     "metadata": {},
     "output_type": "execute_result"
    }
   ],
   "source": [
    "boolx(10)"
   ]
  },
  {
   "cell_type": "code",
   "execution_count": 61,
   "id": "aa6eb0bf",
   "metadata": {},
   "outputs": [
    {
     "data": {
      "text/plain": [
       "13"
      ]
     },
     "execution_count": 61,
     "metadata": {},
     "output_type": "execute_result"
    }
   ],
   "source": [
    "boolx(True,12)"
   ]
  },
  {
   "cell_type": "code",
   "execution_count": 9,
   "id": "20ce2ae8",
   "metadata": {},
   "outputs": [],
   "source": [
    "def test11(*args):\n",
    "    #multiple data \n",
    "    return args"
   ]
  },
  {
   "cell_type": "code",
   "execution_count": 6,
   "id": "70291c39",
   "metadata": {},
   "outputs": [
    {
     "data": {
      "text/plain": [
       "(1, 2, 3, 4, ['Ragh', 'Singh', 'Yadav'])"
      ]
     },
     "execution_count": 6,
     "metadata": {},
     "output_type": "execute_result"
    }
   ],
   "source": [
    "test11(1,2,3,4,['Ragh','Singh','Yadav'])"
   ]
  },
  {
   "cell_type": "code",
   "execution_count": 7,
   "id": "b55852ba",
   "metadata": {},
   "outputs": [],
   "source": [
    "a=test11(1,2,3,4,(1,2,3,4))"
   ]
  },
  {
   "cell_type": "code",
   "execution_count": 8,
   "id": "89adbaf3",
   "metadata": {},
   "outputs": [
    {
     "data": {
      "text/plain": [
       "(1, 2, 3, 4, (1, 2, 3, 4))"
      ]
     },
     "execution_count": 8,
     "metadata": {},
     "output_type": "execute_result"
    }
   ],
   "source": [
    "a"
   ]
  },
  {
   "cell_type": "code",
   "execution_count": 10,
   "id": "58a991ca",
   "metadata": {},
   "outputs": [],
   "source": [
    "a=test11()"
   ]
  },
  {
   "cell_type": "code",
   "execution_count": 11,
   "id": "2888256f",
   "metadata": {},
   "outputs": [
    {
     "data": {
      "text/plain": [
       "()"
      ]
     },
     "execution_count": 11,
     "metadata": {},
     "output_type": "execute_result"
    }
   ],
   "source": [
    "a"
   ]
  },
  {
   "cell_type": "code",
   "execution_count": 28,
   "id": "36c9d6cf",
   "metadata": {},
   "outputs": [],
   "source": [
    "def test12(*args):\n",
    "    ls=[]\n",
    "    for i in args:\n",
    "        ls=ls+i\n",
    "    return ls\n",
    "        "
   ]
  },
  {
   "cell_type": "code",
   "execution_count": 29,
   "id": "32d2f354",
   "metadata": {},
   "outputs": [
    {
     "data": {
      "text/plain": [
       "[1, 2, 2, 3, 3, 4, 5, 6]"
      ]
     },
     "execution_count": 29,
     "metadata": {},
     "output_type": "execute_result"
    }
   ],
   "source": [
    "test12([1,2],[2,3],[3,4,5,6])"
   ]
  },
  {
   "cell_type": "code",
   "execution_count": 30,
   "id": "02bf4c12",
   "metadata": {},
   "outputs": [
    {
     "data": {
      "text/plain": [
       "[1, 'args', 2, 3, 2, 3]"
      ]
     },
     "execution_count": 30,
     "metadata": {},
     "output_type": "execute_result"
    }
   ],
   "source": [
    "test12([1,'args',2,3],[2,3])"
   ]
  },
  {
   "cell_type": "code",
   "execution_count": 31,
   "id": "9f04b681",
   "metadata": {},
   "outputs": [],
   "source": [
    "def test13(*args):\n",
    "    ls=[]\n",
    "    for i in args:\n",
    "        if type(i)==list:\n",
    "            ls=ls+i\n",
    "    return ls"
   ]
  },
  {
   "cell_type": "code",
   "execution_count": 33,
   "id": "404ed210",
   "metadata": {},
   "outputs": [
    {
     "data": {
      "text/plain": [
       "[1, 2, 3, 4, 6]"
      ]
     },
     "execution_count": 33,
     "metadata": {},
     "output_type": "execute_result"
    }
   ],
   "source": [
    "test13([1,2,3],[4,6],'Rah','Yadav')"
   ]
  },
  {
   "cell_type": "code",
   "execution_count": null,
   "id": "e3fca008",
   "metadata": {},
   "outputs": [],
   "source": [
    "def test14(**kwargs):#Kkeywords Arguments\n",
    "    \n",
    "    "
   ]
  }
 ],
 "metadata": {
  "kernelspec": {
   "display_name": "Python 3",
   "language": "python",
   "name": "python3"
  },
  "language_info": {
   "codemirror_mode": {
    "name": "ipython",
    "version": 3
   },
   "file_extension": ".py",
   "mimetype": "text/x-python",
   "name": "python",
   "nbconvert_exporter": "python",
   "pygments_lexer": "ipython3",
   "version": "3.8.8"
  }
 },
 "nbformat": 4,
 "nbformat_minor": 5
}
