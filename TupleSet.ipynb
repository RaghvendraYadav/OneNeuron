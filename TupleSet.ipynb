{
 "cells": [
  {
   "cell_type": "code",
   "execution_count": 1,
   "id": "9f82ac7b",
   "metadata": {},
   "outputs": [],
   "source": [
    "t=()"
   ]
  },
  {
   "cell_type": "code",
   "execution_count": 2,
   "id": "9718bfdb",
   "metadata": {},
   "outputs": [
    {
     "data": {
      "text/plain": [
       "tuple"
      ]
     },
     "execution_count": 2,
     "metadata": {},
     "output_type": "execute_result"
    }
   ],
   "source": [
    "type(t)"
   ]
  },
  {
   "cell_type": "code",
   "execution_count": 3,
   "id": "f771fcf3",
   "metadata": {},
   "outputs": [
    {
     "data": {
      "text/plain": [
       "[123, 'Ragh', True, 'Abc123']"
      ]
     },
     "execution_count": 3,
     "metadata": {},
     "output_type": "execute_result"
    }
   ],
   "source": [
    "l1=[123,'Ragh',True,'Abc123']\n",
    "l1"
   ]
  },
  {
   "cell_type": "code",
   "execution_count": 2,
   "id": "7271e1d9",
   "metadata": {},
   "outputs": [],
   "source": [
    "t1=(123,'Ragh',True,'Abc123')"
   ]
  },
  {
   "cell_type": "code",
   "execution_count": 3,
   "id": "3efb06a8",
   "metadata": {},
   "outputs": [
    {
     "data": {
      "text/plain": [
       "(123, 'Ragh', True, 'Abc123')"
      ]
     },
     "execution_count": 3,
     "metadata": {},
     "output_type": "execute_result"
    }
   ],
   "source": [
    "t1"
   ]
  },
  {
   "cell_type": "code",
   "execution_count": 6,
   "id": "f726a34c",
   "metadata": {},
   "outputs": [
    {
     "data": {
      "text/plain": [
       "('Abc123', True, 'Ragh', 123)"
      ]
     },
     "execution_count": 6,
     "metadata": {},
     "output_type": "execute_result"
    }
   ],
   "source": [
    "t1[::-1]"
   ]
  },
  {
   "cell_type": "code",
   "execution_count": 7,
   "id": "a012002f",
   "metadata": {},
   "outputs": [
    {
     "data": {
      "text/plain": [
       "'Abc123'"
      ]
     },
     "execution_count": 7,
     "metadata": {},
     "output_type": "execute_result"
    }
   ],
   "source": [
    "t1[-1]"
   ]
  },
  {
   "cell_type": "code",
   "execution_count": 9,
   "id": "3cd3cd6a",
   "metadata": {},
   "outputs": [],
   "source": [
    "l1[2]='Yadav'"
   ]
  },
  {
   "cell_type": "code",
   "execution_count": 10,
   "id": "32970cbb",
   "metadata": {},
   "outputs": [
    {
     "data": {
      "text/plain": [
       "[123, 'Ragh', 'Yadav', 'Abc123']"
      ]
     },
     "execution_count": 10,
     "metadata": {},
     "output_type": "execute_result"
    }
   ],
   "source": [
    "l1"
   ]
  },
  {
   "cell_type": "code",
   "execution_count": 11,
   "id": "33102c7b",
   "metadata": {},
   "outputs": [
    {
     "ename": "TypeError",
     "evalue": "'tuple' object does not support item assignment",
     "output_type": "error",
     "traceback": [
      "\u001b[1;31m---------------------------------------------------------------------------\u001b[0m",
      "\u001b[1;31mTypeError\u001b[0m                                 Traceback (most recent call last)",
      "\u001b[1;32m<ipython-input-11-9ea09dd29dcf>\u001b[0m in \u001b[0;36m<module>\u001b[1;34m\u001b[0m\n\u001b[1;32m----> 1\u001b[1;33m \u001b[0mt1\u001b[0m\u001b[1;33m[\u001b[0m\u001b[1;36m2\u001b[0m\u001b[1;33m]\u001b[0m\u001b[1;33m=\u001b[0m\u001b[1;34m'Yadav'\u001b[0m\u001b[1;33m\u001b[0m\u001b[1;33m\u001b[0m\u001b[0m\n\u001b[0m",
      "\u001b[1;31mTypeError\u001b[0m: 'tuple' object does not support item assignment"
     ]
    }
   ],
   "source": [
    "t1[2]='Yadav'"
   ]
  },
  {
   "cell_type": "code",
   "execution_count": 4,
   "id": "0ecd545f",
   "metadata": {},
   "outputs": [],
   "source": [
    "l2=list(t1)"
   ]
  },
  {
   "cell_type": "markdown",
   "id": "1be98665",
   "metadata": {},
   "source": [
    "## "
   ]
  },
  {
   "cell_type": "code",
   "execution_count": 5,
   "id": "3fac0a4f",
   "metadata": {},
   "outputs": [
    {
     "data": {
      "text/plain": [
       "[123, 'Ragh', True, 'Abc123']"
      ]
     },
     "execution_count": 5,
     "metadata": {},
     "output_type": "execute_result"
    }
   ],
   "source": [
    "l2"
   ]
  },
  {
   "cell_type": "code",
   "execution_count": 6,
   "id": "a5578757",
   "metadata": {},
   "outputs": [],
   "source": [
    "l2.insert(4,'Aniket Singh Thakur')"
   ]
  },
  {
   "cell_type": "code",
   "execution_count": 7,
   "id": "0df69884",
   "metadata": {},
   "outputs": [
    {
     "data": {
      "text/plain": [
       "(123, 'Ragh', True, 'Abc123', 'Aniket Singh Thakur')"
      ]
     },
     "execution_count": 7,
     "metadata": {},
     "output_type": "execute_result"
    }
   ],
   "source": [
    "tuple(l2)"
   ]
  },
  {
   "cell_type": "code",
   "execution_count": 8,
   "id": "3a2fb762",
   "metadata": {},
   "outputs": [],
   "source": [
    "t=((3,4,5),(3,'Ragh',4,[4,5,'Ragh']))"
   ]
  },
  {
   "cell_type": "code",
   "execution_count": 14,
   "id": "03479a45",
   "metadata": {},
   "outputs": [
    {
     "data": {
      "text/plain": [
       "(4, [4, 5, 'Ragh'])"
      ]
     },
     "execution_count": 14,
     "metadata": {},
     "output_type": "execute_result"
    }
   ],
   "source": [
    "t[1][2:]"
   ]
  },
  {
   "cell_type": "code",
   "execution_count": 16,
   "id": "ca364643",
   "metadata": {},
   "outputs": [
    {
     "name": "stdout",
     "output_type": "stream",
     "text": [
      "[4, 5, 'Ragh']\n"
     ]
    }
   ],
   "source": [
    "for i in t:\n",
    "    if type(i)==tuple:\n",
    "        for j in i:\n",
    "            if type(j)==list:\n",
    "                print(j)"
   ]
  },
  {
   "cell_type": "code",
   "execution_count": 17,
   "id": "0cdac45d",
   "metadata": {},
   "outputs": [
    {
     "data": {
      "text/plain": [
       "(123, 'Ragh', True, 'Abc123')"
      ]
     },
     "execution_count": 17,
     "metadata": {},
     "output_type": "execute_result"
    }
   ],
   "source": [
    "t1"
   ]
  },
  {
   "cell_type": "code",
   "execution_count": 19,
   "id": "b2d61d41",
   "metadata": {},
   "outputs": [
    {
     "name": "stdout",
     "output_type": "stream",
     "text": [
      "False\n"
     ]
    }
   ],
   "source": [
    "if len(t1)==len(t):\n",
    "    print(\"True\")\n",
    "else:\n",
    "    print(\"False\")"
   ]
  },
  {
   "cell_type": "code",
   "execution_count": 20,
   "id": "384635a3",
   "metadata": {},
   "outputs": [
    {
     "data": {
      "text/plain": [
       "2"
      ]
     },
     "execution_count": 20,
     "metadata": {},
     "output_type": "execute_result"
    }
   ],
   "source": [
    "len(t)"
   ]
  },
  {
   "cell_type": "code",
   "execution_count": 21,
   "id": "cdd34135",
   "metadata": {},
   "outputs": [
    {
     "data": {
      "text/plain": [
       "(123, 'Ragh', True, 'Abc123')"
      ]
     },
     "execution_count": 21,
     "metadata": {},
     "output_type": "execute_result"
    }
   ],
   "source": [
    "t1"
   ]
  },
  {
   "cell_type": "code",
   "execution_count": 22,
   "id": "beadce82",
   "metadata": {},
   "outputs": [],
   "source": [
    "del(t1)"
   ]
  },
  {
   "cell_type": "code",
   "execution_count": 23,
   "id": "17b017b1",
   "metadata": {},
   "outputs": [
    {
     "ename": "NameError",
     "evalue": "name 't1' is not defined",
     "output_type": "error",
     "traceback": [
      "\u001b[1;31m---------------------------------------------------------------------------\u001b[0m",
      "\u001b[1;31mNameError\u001b[0m                                 Traceback (most recent call last)",
      "\u001b[1;32m<ipython-input-23-5db19043943a>\u001b[0m in \u001b[0;36m<module>\u001b[1;34m\u001b[0m\n\u001b[1;32m----> 1\u001b[1;33m \u001b[0mt1\u001b[0m\u001b[1;33m\u001b[0m\u001b[1;33m\u001b[0m\u001b[0m\n\u001b[0m",
      "\u001b[1;31mNameError\u001b[0m: name 't1' is not defined"
     ]
    }
   ],
   "source": [
    "t1"
   ]
  },
  {
   "cell_type": "code",
   "execution_count": 25,
   "id": "b80c518c",
   "metadata": {},
   "outputs": [],
   "source": [
    "del(l2)"
   ]
  },
  {
   "cell_type": "code",
   "execution_count": 26,
   "id": "6b87a164",
   "metadata": {},
   "outputs": [
    {
     "ename": "NameError",
     "evalue": "name 'l2' is not defined",
     "output_type": "error",
     "traceback": [
      "\u001b[1;31m---------------------------------------------------------------------------\u001b[0m",
      "\u001b[1;31mNameError\u001b[0m                                 Traceback (most recent call last)",
      "\u001b[1;32m<ipython-input-26-ea320d2ace30>\u001b[0m in \u001b[0;36m<module>\u001b[1;34m\u001b[0m\n\u001b[1;32m----> 1\u001b[1;33m \u001b[0ml2\u001b[0m\u001b[1;33m\u001b[0m\u001b[1;33m\u001b[0m\u001b[0m\n\u001b[0m",
      "\u001b[1;31mNameError\u001b[0m: name 'l2' is not defined"
     ]
    }
   ],
   "source": [
    "l2"
   ]
  },
  {
   "cell_type": "markdown",
   "id": "d5d85616",
   "metadata": {},
   "source": [
    "SET COLLECTION"
   ]
  },
  {
   "cell_type": "code",
   "execution_count": 27,
   "id": "ba8acf85",
   "metadata": {},
   "outputs": [],
   "source": [
    "x=set()"
   ]
  },
  {
   "cell_type": "code",
   "execution_count": 28,
   "id": "2d8ab8dd",
   "metadata": {},
   "outputs": [
    {
     "data": {
      "text/plain": [
       "set"
      ]
     },
     "execution_count": 28,
     "metadata": {},
     "output_type": "execute_result"
    }
   ],
   "source": [
    "type(x)"
   ]
  },
  {
   "cell_type": "code",
   "execution_count": 29,
   "id": "99c55b73",
   "metadata": {},
   "outputs": [],
   "source": [
    "l=[34,55,55,34,'Ragh','Ragh']"
   ]
  },
  {
   "cell_type": "code",
   "execution_count": 32,
   "id": "74ad5990",
   "metadata": {},
   "outputs": [],
   "source": [
    "s=set(l)"
   ]
  },
  {
   "cell_type": "code",
   "execution_count": 33,
   "id": "94547b43",
   "metadata": {},
   "outputs": [
    {
     "data": {
      "text/plain": [
       "{34, 55, 'Ragh'}"
      ]
     },
     "execution_count": 33,
     "metadata": {},
     "output_type": "execute_result"
    }
   ],
   "source": [
    "s"
   ]
  },
  {
   "cell_type": "code",
   "execution_count": 34,
   "id": "cd0de74f",
   "metadata": {},
   "outputs": [
    {
     "data": {
      "text/plain": [
       "{34, 55, 'Ragh'}"
      ]
     },
     "execution_count": 34,
     "metadata": {},
     "output_type": "execute_result"
    }
   ],
   "source": [
    "s"
   ]
  },
  {
   "cell_type": "code",
   "execution_count": 35,
   "id": "ebbaf6bd",
   "metadata": {},
   "outputs": [
    {
     "name": "stdout",
     "output_type": "stream",
     "text": [
      "34\n",
      "Ragh\n",
      "55\n"
     ]
    }
   ],
   "source": [
    "for i in s:\n",
    "    print(i)"
   ]
  },
  {
   "cell_type": "code",
   "execution_count": 36,
   "id": "35035c79",
   "metadata": {},
   "outputs": [
    {
     "data": {
      "text/plain": [
       "True"
      ]
     },
     "execution_count": 36,
     "metadata": {},
     "output_type": "execute_result"
    }
   ],
   "source": [
    "34 in s"
   ]
  },
  {
   "cell_type": "code",
   "execution_count": 37,
   "id": "bea878f8",
   "metadata": {},
   "outputs": [
    {
     "ename": "TypeError",
     "evalue": "'set' object is not subscriptable",
     "output_type": "error",
     "traceback": [
      "\u001b[1;31m---------------------------------------------------------------------------\u001b[0m",
      "\u001b[1;31mTypeError\u001b[0m                                 Traceback (most recent call last)",
      "\u001b[1;32m<ipython-input-37-c9c96910e542>\u001b[0m in \u001b[0;36m<module>\u001b[1;34m\u001b[0m\n\u001b[1;32m----> 1\u001b[1;33m \u001b[0ms\u001b[0m\u001b[1;33m[\u001b[0m\u001b[1;36m0\u001b[0m\u001b[1;33m]\u001b[0m\u001b[1;33m\u001b[0m\u001b[1;33m\u001b[0m\u001b[0m\n\u001b[0m",
      "\u001b[1;31mTypeError\u001b[0m: 'set' object is not subscriptable"
     ]
    }
   ],
   "source": [
    "s[0]"
   ]
  },
  {
   "cell_type": "markdown",
   "id": "73c7b75e",
   "metadata": {},
   "source": [
    "In  Set Indexing  doesnot work and it emove duplicate andin unordered manner\n"
   ]
  },
  {
   "cell_type": "code",
   "execution_count": 38,
   "id": "653a3423",
   "metadata": {},
   "outputs": [],
   "source": [
    "s1={11,2,45,23,65}"
   ]
  },
  {
   "cell_type": "code",
   "execution_count": 39,
   "id": "d64b9f0d",
   "metadata": {},
   "outputs": [
    {
     "data": {
      "text/plain": [
       "{2, 11, 23, 45, 65}"
      ]
     },
     "execution_count": 39,
     "metadata": {},
     "output_type": "execute_result"
    }
   ],
   "source": [
    "s1"
   ]
  },
  {
   "cell_type": "markdown",
   "id": "b18a4dfb",
   "metadata": {},
   "source": [
    " we cannot add nested list or tuple to Set"
   ]
  },
  {
   "cell_type": "code",
   "execution_count": 40,
   "id": "653f3ceb",
   "metadata": {},
   "outputs": [],
   "source": [
    "s1.add(4)"
   ]
  },
  {
   "cell_type": "code",
   "execution_count": 45,
   "id": "989a3654",
   "metadata": {},
   "outputs": [],
   "source": [
    "s1.remove(4)"
   ]
  },
  {
   "cell_type": "code",
   "execution_count": 46,
   "id": "4dfb1f2d",
   "metadata": {},
   "outputs": [
    {
     "data": {
      "text/plain": [
       "{2, 11, 23, 45, 65}"
      ]
     },
     "execution_count": 46,
     "metadata": {},
     "output_type": "execute_result"
    }
   ],
   "source": [
    "s1"
   ]
  },
  {
   "cell_type": "code",
   "execution_count": 47,
   "id": "97a72ee9",
   "metadata": {},
   "outputs": [],
   "source": [
    "s1.clear()"
   ]
  },
  {
   "cell_type": "code",
   "execution_count": 48,
   "id": "79a784d8",
   "metadata": {},
   "outputs": [
    {
     "data": {
      "text/plain": [
       "set()"
      ]
     },
     "execution_count": 48,
     "metadata": {},
     "output_type": "execute_result"
    }
   ],
   "source": [
    "s1"
   ]
  },
  {
   "cell_type": "markdown",
   "id": "096c423d",
   "metadata": {},
   "source": [
    " Dictionary\n"
   ]
  },
  {
   "cell_type": "code",
   "execution_count": 22,
   "id": "52a35fd4",
   "metadata": {},
   "outputs": [],
   "source": [
    "d={}"
   ]
  },
  {
   "cell_type": "code",
   "execution_count": 23,
   "id": "44d5ed18",
   "metadata": {},
   "outputs": [
    {
     "data": {
      "text/plain": [
       "dict"
      ]
     },
     "execution_count": 23,
     "metadata": {},
     "output_type": "execute_result"
    }
   ],
   "source": [
    "type(d)"
   ]
  },
  {
   "cell_type": "code",
   "execution_count": 24,
   "id": "78781b8d",
   "metadata": {},
   "outputs": [],
   "source": [
    "d={1,2}"
   ]
  },
  {
   "cell_type": "code",
   "execution_count": 25,
   "id": "f37c0f45",
   "metadata": {},
   "outputs": [
    {
     "data": {
      "text/plain": [
       "set"
      ]
     },
     "execution_count": 25,
     "metadata": {},
     "output_type": "execute_result"
    }
   ],
   "source": [
    "type(d)"
   ]
  },
  {
   "cell_type": "code",
   "execution_count": 31,
   "id": "14c62578",
   "metadata": {},
   "outputs": [
    {
     "data": {
      "text/plain": [
       "{'Name': 'Raghvendra', 'age': 23, 'salary': 22578}"
      ]
     },
     "execution_count": 31,
     "metadata": {},
     "output_type": "execute_result"
    }
   ],
   "source": [
    "d1={'Name':'Raghvendra','age':23,'salary':22578} # Dict contain keyand Value pair\n",
    "d1"
   ]
  },
  {
   "cell_type": "code",
   "execution_count": 32,
   "id": "64c96177",
   "metadata": {},
   "outputs": [
    {
     "data": {
      "text/plain": [
       "dict"
      ]
     },
     "execution_count": 32,
     "metadata": {},
     "output_type": "execute_result"
    }
   ],
   "source": [
    "type(d1)"
   ]
  },
  {
   "cell_type": "code",
   "execution_count": 1,
   "id": "cc2ce073",
   "metadata": {},
   "outputs": [],
   "source": [
    "d2={'Name':'Raghvendra','age':23,'salary':22578,\"Name\":\"sfdasfd\",\"key\":False,34:2343}"
   ]
  },
  {
   "cell_type": "code",
   "execution_count": 2,
   "id": "4480b37f",
   "metadata": {},
   "outputs": [
    {
     "data": {
      "text/plain": [
       "{'Name': 'sfdasfd', 'age': 23, 'salary': 22578, 'key': False, 34: 2343}"
      ]
     },
     "execution_count": 2,
     "metadata": {},
     "output_type": "execute_result"
    }
   ],
   "source": [
    "d2"
   ]
  },
  {
   "cell_type": "code",
   "execution_count": 3,
   "id": "1bf6c142",
   "metadata": {},
   "outputs": [],
   "source": [
    "d3={'Name':'Raghvendra','age':23,'salary':22578,\"Lat_Name\":\"Raghvendra\",\"key\":False,34:2343}"
   ]
  },
  {
   "cell_type": "code",
   "execution_count": 4,
   "id": "f0a630ea",
   "metadata": {},
   "outputs": [
    {
     "data": {
      "text/plain": [
       "{'Name': 'Raghvendra',\n",
       " 'age': 23,\n",
       " 'salary': 22578,\n",
       " 'Lat_Name': 'Raghvendra',\n",
       " 'key': False,\n",
       " 34: 2343}"
      ]
     },
     "execution_count": 4,
     "metadata": {},
     "output_type": "execute_result"
    }
   ],
   "source": [
    "d3"
   ]
  },
  {
   "cell_type": "markdown",
   "id": "9d87652f",
   "metadata": {},
   "source": [
    " Nested Dictionry Is allowed"
   ]
  },
  {
   "cell_type": "code",
   "execution_count": 16,
   "id": "b8877902",
   "metadata": {},
   "outputs": [],
   "source": [
    "d3={1:{'Name':'Raghvendra'},'age':23,'salary':22578,\"Lat_Name\":\"Raghvendra\",\"key\":False,34:2343}"
   ]
  },
  {
   "cell_type": "code",
   "execution_count": 13,
   "id": "dcb4336d",
   "metadata": {},
   "outputs": [
    {
     "data": {
      "text/plain": [
       "4"
      ]
     },
     "execution_count": 13,
     "metadata": {},
     "output_type": "execute_result"
    }
   ],
   "source": [
    "l=[1,2,3,4,65]\n",
    "l[3]"
   ]
  },
  {
   "cell_type": "code",
   "execution_count": 14,
   "id": "a6aa83d7",
   "metadata": {},
   "outputs": [
    {
     "data": {
      "text/plain": [
       "23"
      ]
     },
     "execution_count": 14,
     "metadata": {},
     "output_type": "execute_result"
    }
   ],
   "source": [
    "d3['age']"
   ]
  },
  {
   "cell_type": "code",
   "execution_count": 17,
   "id": "576dc76e",
   "metadata": {},
   "outputs": [
    {
     "data": {
      "text/plain": [
       "'Raghvendra'"
      ]
     },
     "execution_count": 17,
     "metadata": {},
     "output_type": "execute_result"
    }
   ],
   "source": [
    "d3[1]['Name']"
   ]
  },
  {
   "cell_type": "code",
   "execution_count": 18,
   "id": "eb569df2",
   "metadata": {},
   "outputs": [],
   "source": [
    "e={6:{6,4,5}}"
   ]
  },
  {
   "cell_type": "code",
   "execution_count": 19,
   "id": "7188eb4c",
   "metadata": {},
   "outputs": [],
   "source": [
    "l=list(e)"
   ]
  },
  {
   "cell_type": "code",
   "execution_count": 20,
   "id": "e28109bb",
   "metadata": {},
   "outputs": [
    {
     "data": {
      "text/plain": [
       "[6]"
      ]
     },
     "execution_count": 20,
     "metadata": {},
     "output_type": "execute_result"
    }
   ],
   "source": [
    "l"
   ]
  },
  {
   "cell_type": "code",
   "execution_count": 26,
   "id": "506fa9cd",
   "metadata": {
    "scrolled": true
   },
   "outputs": [
    {
     "name": "stdout",
     "output_type": "stream",
     "text": [
      " ht  tps://www.goog    l e.com/search?q=wi     kpedia&rlz=1C1ONGR_e  nIN979IN97  9&oq=wikpedia&a    qs  = chrome.. 69i57. 6806j0j7 &  sourceid= chrome& ie= UTF -8\n"
     ]
    }
   ],
   "source": [
    "s=input()"
   ]
  },
  {
   "cell_type": "code",
   "execution_count": 27,
   "id": "06811a78",
   "metadata": {},
   "outputs": [
    {
     "data": {
      "text/plain": [
       "' ht  tps://www.goog    l e.com/search?q=wi     kpedia&rlz=1C1ONGR_e  nIN979IN97  9&oq=wikpedia&a    qs  = chrome.. 69i57. 6806j0j7 &  sourceid= chrome& ie= UTF -8'"
      ]
     },
     "execution_count": 27,
     "metadata": {},
     "output_type": "execute_result"
    }
   ],
   "source": [
    "s"
   ]
  },
  {
   "cell_type": "code",
   "execution_count": 28,
   "id": "d3403cc8",
   "metadata": {},
   "outputs": [],
   "source": [
    "l=s.split()"
   ]
  },
  {
   "cell_type": "code",
   "execution_count": 29,
   "id": "010bbc17",
   "metadata": {},
   "outputs": [
    {
     "data": {
      "text/plain": [
       "['ht',\n",
       " 'tps://www.goog',\n",
       " 'l',\n",
       " 'e.com/search?q=wi',\n",
       " 'kpedia&rlz=1C1ONGR_e',\n",
       " 'nIN979IN97',\n",
       " '9&oq=wikpedia&a',\n",
       " 'qs',\n",
       " '=',\n",
       " 'chrome..',\n",
       " '69i57.',\n",
       " '6806j0j7',\n",
       " '&',\n",
       " 'sourceid=',\n",
       " 'chrome&',\n",
       " 'ie=',\n",
       " 'UTF',\n",
       " '-8']"
      ]
     },
     "execution_count": 29,
     "metadata": {},
     "output_type": "execute_result"
    }
   ],
   "source": [
    "l"
   ]
  },
  {
   "cell_type": "code",
   "execution_count": 30,
   "id": "562dee1e",
   "metadata": {},
   "outputs": [
    {
     "name": "stdout",
     "output_type": "stream",
     "text": [
      "Ram (given name) Ram (surname) Ram (director) (Ramsubramaniam), an Indian Tamil film director RAM (musician) (born 1974), Dutch Raja Ram (musician) (Ronald Rothfield), Australian Ram Dass (Richard Alpert), US spiritual teacher and author Kavitark Ram Shriram (born 1950s), Google founding board member Ram Herrera, a Tejano musician Religion Rama, incarnation of the god Vishnu in Hinduism Places Ram, Serbia, Veliko Gradište Lake Ram, Golan Heights, Syria Ram Island (disambiguation), several islands with the name Ram Fortress, Serbia Ram Range, a mountain range in the Canadian Rockies Ram River in Alberta, Canada\n"
     ]
    }
   ],
   "source": [
    "s=input()"
   ]
  },
  {
   "cell_type": "code",
   "execution_count": 31,
   "id": "11ed1a00",
   "metadata": {},
   "outputs": [
    {
     "data": {
      "text/plain": [
       "'Ram (given name) Ram (surname) Ram (director) (Ramsubramaniam), an Indian Tamil film director RAM (musician) (born 1974), Dutch Raja Ram (musician) (Ronald Rothfield), Australian Ram Dass (Richard Alpert), US spiritual teacher and author Kavitark Ram Shriram (born 1950s), Google founding board member Ram Herrera, a Tejano musician Religion Rama, incarnation of the god Vishnu in Hinduism Places Ram, Serbia, Veliko Gradište Lake Ram, Golan Heights, Syria Ram Island (disambiguation), several islands with the name Ram Fortress, Serbia Ram Range, a mountain range in the Canadian Rockies Ram River in Alberta, Canada'"
      ]
     },
     "execution_count": 31,
     "metadata": {},
     "output_type": "execute_result"
    }
   ],
   "source": [
    "s"
   ]
  },
  {
   "cell_type": "code",
   "execution_count": 32,
   "id": "ee470ffd",
   "metadata": {},
   "outputs": [],
   "source": [
    "l=s.split()"
   ]
  },
  {
   "cell_type": "code",
   "execution_count": 33,
   "id": "fc58b79d",
   "metadata": {},
   "outputs": [
    {
     "data": {
      "text/plain": [
       "['Ram',\n",
       " '(given',\n",
       " 'name)',\n",
       " 'Ram',\n",
       " '(surname)',\n",
       " 'Ram',\n",
       " '(director)',\n",
       " '(Ramsubramaniam),',\n",
       " 'an',\n",
       " 'Indian',\n",
       " 'Tamil',\n",
       " 'film',\n",
       " 'director',\n",
       " 'RAM',\n",
       " '(musician)',\n",
       " '(born',\n",
       " '1974),',\n",
       " 'Dutch',\n",
       " 'Raja',\n",
       " 'Ram',\n",
       " '(musician)',\n",
       " '(Ronald',\n",
       " 'Rothfield),',\n",
       " 'Australian',\n",
       " 'Ram',\n",
       " 'Dass',\n",
       " '(Richard',\n",
       " 'Alpert),',\n",
       " 'US',\n",
       " 'spiritual',\n",
       " 'teacher',\n",
       " 'and',\n",
       " 'author',\n",
       " 'Kavitark',\n",
       " 'Ram',\n",
       " 'Shriram',\n",
       " '(born',\n",
       " '1950s),',\n",
       " 'Google',\n",
       " 'founding',\n",
       " 'board',\n",
       " 'member',\n",
       " 'Ram',\n",
       " 'Herrera,',\n",
       " 'a',\n",
       " 'Tejano',\n",
       " 'musician',\n",
       " 'Religion',\n",
       " 'Rama,',\n",
       " 'incarnation',\n",
       " 'of',\n",
       " 'the',\n",
       " 'god',\n",
       " 'Vishnu',\n",
       " 'in',\n",
       " 'Hinduism',\n",
       " 'Places',\n",
       " 'Ram,',\n",
       " 'Serbia,',\n",
       " 'Veliko',\n",
       " 'Gradište',\n",
       " 'Lake',\n",
       " 'Ram,',\n",
       " 'Golan',\n",
       " 'Heights,',\n",
       " 'Syria',\n",
       " 'Ram',\n",
       " 'Island',\n",
       " '(disambiguation),',\n",
       " 'several',\n",
       " 'islands',\n",
       " 'with',\n",
       " 'the',\n",
       " 'name',\n",
       " 'Ram',\n",
       " 'Fortress,',\n",
       " 'Serbia',\n",
       " 'Ram',\n",
       " 'Range,',\n",
       " 'a',\n",
       " 'mountain',\n",
       " 'range',\n",
       " 'in',\n",
       " 'the',\n",
       " 'Canadian',\n",
       " 'Rockies',\n",
       " 'Ram',\n",
       " 'River',\n",
       " 'in',\n",
       " 'Alberta,',\n",
       " 'Canada']"
      ]
     },
     "execution_count": 33,
     "metadata": {},
     "output_type": "execute_result"
    }
   ],
   "source": [
    "l"
   ]
  },
  {
   "cell_type": "code",
   "execution_count": 34,
   "id": "f86a606d",
   "metadata": {},
   "outputs": [],
   "source": [
    "st=set(l)"
   ]
  },
  {
   "cell_type": "code",
   "execution_count": 35,
   "id": "a5faef3c",
   "metadata": {},
   "outputs": [
    {
     "data": {
      "text/plain": [
       "{'(Ramsubramaniam),',\n",
       " '(Richard',\n",
       " '(Ronald',\n",
       " '(born',\n",
       " '(director)',\n",
       " '(disambiguation),',\n",
       " '(given',\n",
       " '(musician)',\n",
       " '(surname)',\n",
       " '1950s),',\n",
       " '1974),',\n",
       " 'Alberta,',\n",
       " 'Alpert),',\n",
       " 'Australian',\n",
       " 'Canada',\n",
       " 'Canadian',\n",
       " 'Dass',\n",
       " 'Dutch',\n",
       " 'Fortress,',\n",
       " 'Golan',\n",
       " 'Google',\n",
       " 'Gradište',\n",
       " 'Heights,',\n",
       " 'Herrera,',\n",
       " 'Hinduism',\n",
       " 'Indian',\n",
       " 'Island',\n",
       " 'Kavitark',\n",
       " 'Lake',\n",
       " 'Places',\n",
       " 'RAM',\n",
       " 'Raja',\n",
       " 'Ram',\n",
       " 'Ram,',\n",
       " 'Rama,',\n",
       " 'Range,',\n",
       " 'Religion',\n",
       " 'River',\n",
       " 'Rockies',\n",
       " 'Rothfield),',\n",
       " 'Serbia',\n",
       " 'Serbia,',\n",
       " 'Shriram',\n",
       " 'Syria',\n",
       " 'Tamil',\n",
       " 'Tejano',\n",
       " 'US',\n",
       " 'Veliko',\n",
       " 'Vishnu',\n",
       " 'a',\n",
       " 'an',\n",
       " 'and',\n",
       " 'author',\n",
       " 'board',\n",
       " 'director',\n",
       " 'film',\n",
       " 'founding',\n",
       " 'god',\n",
       " 'in',\n",
       " 'incarnation',\n",
       " 'islands',\n",
       " 'member',\n",
       " 'mountain',\n",
       " 'musician',\n",
       " 'name',\n",
       " 'name)',\n",
       " 'of',\n",
       " 'range',\n",
       " 'several',\n",
       " 'spiritual',\n",
       " 'teacher',\n",
       " 'the',\n",
       " 'with'}"
      ]
     },
     "execution_count": 35,
     "metadata": {},
     "output_type": "execute_result"
    }
   ],
   "source": [
    "st"
   ]
  },
  {
   "cell_type": "code",
   "execution_count": 37,
   "id": "9970984a",
   "metadata": {},
   "outputs": [],
   "source": [
    "dic={}"
   ]
  },
  {
   "cell_type": "code",
   "execution_count": 38,
   "id": "20637553",
   "metadata": {},
   "outputs": [],
   "source": [
    "for i in st:\n",
    "    dic[i]='Ragh'\n",
    "    "
   ]
  },
  {
   "cell_type": "code",
   "execution_count": 39,
   "id": "5696b85e",
   "metadata": {},
   "outputs": [
    {
     "data": {
      "text/plain": [
       "{'1974),': 'Ragh',\n",
       " '(given': 'Ragh',\n",
       " 'RAM': 'Ragh',\n",
       " 'Vishnu': 'Ragh',\n",
       " 'name)': 'Ragh',\n",
       " '(Richard': 'Ragh',\n",
       " 'Raja': 'Ragh',\n",
       " 'author': 'Ragh',\n",
       " 'Ram,': 'Ragh',\n",
       " '(musician)': 'Ragh',\n",
       " 'founding': 'Ragh',\n",
       " 'board': 'Ragh',\n",
       " 'Canadian': 'Ragh',\n",
       " 'US': 'Ragh',\n",
       " 'islands': 'Ragh',\n",
       " 'spiritual': 'Ragh',\n",
       " 'an': 'Ragh',\n",
       " 'Dass': 'Ragh',\n",
       " 'and': 'Ragh',\n",
       " 'Herrera,': 'Ragh',\n",
       " 'god': 'Ragh',\n",
       " 'several': 'Ragh',\n",
       " 'Serbia': 'Ragh',\n",
       " 'Serbia,': 'Ragh',\n",
       " 'Heights,': 'Ragh',\n",
       " 'Shriram': 'Ragh',\n",
       " 'name': 'Ragh',\n",
       " 'Rockies': 'Ragh',\n",
       " 'Australian': 'Ragh',\n",
       " 'Places': 'Ragh',\n",
       " 'musician': 'Ragh',\n",
       " 'Range,': 'Ragh',\n",
       " 'Hinduism': 'Ragh',\n",
       " 'Syria': 'Ragh',\n",
       " 'with': 'Ragh',\n",
       " 'Lake': 'Ragh',\n",
       " 'director': 'Ragh',\n",
       " 'Tamil': 'Ragh',\n",
       " 'Tejano': 'Ragh',\n",
       " 'Golan': 'Ragh',\n",
       " 'Gradište': 'Ragh',\n",
       " 'a': 'Ragh',\n",
       " 'Ram': 'Ragh',\n",
       " 'the': 'Ragh',\n",
       " 'mountain': 'Ragh',\n",
       " 'range': 'Ragh',\n",
       " 'Canada': 'Ragh',\n",
       " 'Alpert),': 'Ragh',\n",
       " 'in': 'Ragh',\n",
       " '(Ronald': 'Ragh',\n",
       " '(Ramsubramaniam),': 'Ragh',\n",
       " 'incarnation': 'Ragh',\n",
       " 'Indian': 'Ragh',\n",
       " '(surname)': 'Ragh',\n",
       " 'Google': 'Ragh',\n",
       " '(director)': 'Ragh',\n",
       " 'teacher': 'Ragh',\n",
       " '1950s),': 'Ragh',\n",
       " 'Island': 'Ragh',\n",
       " 'River': 'Ragh',\n",
       " 'Rothfield),': 'Ragh',\n",
       " 'Kavitark': 'Ragh',\n",
       " 'Veliko': 'Ragh',\n",
       " 'Religion': 'Ragh',\n",
       " 'member': 'Ragh',\n",
       " 'Alberta,': 'Ragh',\n",
       " '(disambiguation),': 'Ragh',\n",
       " 'Rama,': 'Ragh',\n",
       " 'Fortress,': 'Ragh',\n",
       " 'film': 'Ragh',\n",
       " '(born': 'Ragh',\n",
       " 'Dutch': 'Ragh',\n",
       " 'of': 'Ragh'}"
      ]
     },
     "execution_count": 39,
     "metadata": {},
     "output_type": "execute_result"
    }
   ],
   "source": [
    "dic"
   ]
  },
  {
   "cell_type": "code",
   "execution_count": 41,
   "id": "93586711",
   "metadata": {},
   "outputs": [],
   "source": [
    "t=[]\n",
    "for i in dic.keys():\n",
    "        t.append(dic[i])"
   ]
  },
  {
   "cell_type": "code",
   "execution_count": 42,
   "id": "2064b85b",
   "metadata": {},
   "outputs": [
    {
     "data": {
      "text/plain": [
       "['Ragh',\n",
       " 'Ragh',\n",
       " 'Ragh',\n",
       " 'Ragh',\n",
       " 'Ragh',\n",
       " 'Ragh',\n",
       " 'Ragh',\n",
       " 'Ragh',\n",
       " 'Ragh',\n",
       " 'Ragh',\n",
       " 'Ragh',\n",
       " 'Ragh',\n",
       " 'Ragh',\n",
       " 'Ragh',\n",
       " 'Ragh',\n",
       " 'Ragh',\n",
       " 'Ragh',\n",
       " 'Ragh',\n",
       " 'Ragh',\n",
       " 'Ragh',\n",
       " 'Ragh',\n",
       " 'Ragh',\n",
       " 'Ragh',\n",
       " 'Ragh',\n",
       " 'Ragh',\n",
       " 'Ragh',\n",
       " 'Ragh',\n",
       " 'Ragh',\n",
       " 'Ragh',\n",
       " 'Ragh',\n",
       " 'Ragh',\n",
       " 'Ragh',\n",
       " 'Ragh',\n",
       " 'Ragh',\n",
       " 'Ragh',\n",
       " 'Ragh',\n",
       " 'Ragh',\n",
       " 'Ragh',\n",
       " 'Ragh',\n",
       " 'Ragh',\n",
       " 'Ragh',\n",
       " 'Ragh',\n",
       " 'Ragh',\n",
       " 'Ragh',\n",
       " 'Ragh',\n",
       " 'Ragh',\n",
       " 'Ragh',\n",
       " 'Ragh',\n",
       " 'Ragh',\n",
       " 'Ragh',\n",
       " 'Ragh',\n",
       " 'Ragh',\n",
       " 'Ragh',\n",
       " 'Ragh',\n",
       " 'Ragh',\n",
       " 'Ragh',\n",
       " 'Ragh',\n",
       " 'Ragh',\n",
       " 'Ragh',\n",
       " 'Ragh',\n",
       " 'Ragh',\n",
       " 'Ragh',\n",
       " 'Ragh',\n",
       " 'Ragh',\n",
       " 'Ragh',\n",
       " 'Ragh',\n",
       " 'Ragh',\n",
       " 'Ragh',\n",
       " 'Ragh',\n",
       " 'Ragh',\n",
       " 'Ragh',\n",
       " 'Ragh',\n",
       " 'Ragh']"
      ]
     },
     "execution_count": 42,
     "metadata": {},
     "output_type": "execute_result"
    }
   ],
   "source": [
    "t"
   ]
  },
  {
   "cell_type": "code",
   "execution_count": 43,
   "id": "28072a29",
   "metadata": {},
   "outputs": [],
   "source": [
    "lk=[]\n",
    "for i in dic.keys():\n",
    "    lk.append(i)"
   ]
  },
  {
   "cell_type": "code",
   "execution_count": 44,
   "id": "d21dcce8",
   "metadata": {},
   "outputs": [
    {
     "data": {
      "text/plain": [
       "['1974),',\n",
       " '(given',\n",
       " 'RAM',\n",
       " 'Vishnu',\n",
       " 'name)',\n",
       " '(Richard',\n",
       " 'Raja',\n",
       " 'author',\n",
       " 'Ram,',\n",
       " '(musician)',\n",
       " 'founding',\n",
       " 'board',\n",
       " 'Canadian',\n",
       " 'US',\n",
       " 'islands',\n",
       " 'spiritual',\n",
       " 'an',\n",
       " 'Dass',\n",
       " 'and',\n",
       " 'Herrera,',\n",
       " 'god',\n",
       " 'several',\n",
       " 'Serbia',\n",
       " 'Serbia,',\n",
       " 'Heights,',\n",
       " 'Shriram',\n",
       " 'name',\n",
       " 'Rockies',\n",
       " 'Australian',\n",
       " 'Places',\n",
       " 'musician',\n",
       " 'Range,',\n",
       " 'Hinduism',\n",
       " 'Syria',\n",
       " 'with',\n",
       " 'Lake',\n",
       " 'director',\n",
       " 'Tamil',\n",
       " 'Tejano',\n",
       " 'Golan',\n",
       " 'Gradište',\n",
       " 'a',\n",
       " 'Ram',\n",
       " 'the',\n",
       " 'mountain',\n",
       " 'range',\n",
       " 'Canada',\n",
       " 'Alpert),',\n",
       " 'in',\n",
       " '(Ronald',\n",
       " '(Ramsubramaniam),',\n",
       " 'incarnation',\n",
       " 'Indian',\n",
       " '(surname)',\n",
       " 'Google',\n",
       " '(director)',\n",
       " 'teacher',\n",
       " '1950s),',\n",
       " 'Island',\n",
       " 'River',\n",
       " 'Rothfield),',\n",
       " 'Kavitark',\n",
       " 'Veliko',\n",
       " 'Religion',\n",
       " 'member',\n",
       " 'Alberta,',\n",
       " '(disambiguation),',\n",
       " 'Rama,',\n",
       " 'Fortress,',\n",
       " 'film',\n",
       " '(born',\n",
       " 'Dutch',\n",
       " 'of']"
      ]
     },
     "execution_count": 44,
     "metadata": {},
     "output_type": "execute_result"
    }
   ],
   "source": [
    "lk"
   ]
  },
  {
   "cell_type": "code",
   "execution_count": 49,
   "id": "ecb60ed3",
   "metadata": {},
   "outputs": [],
   "source": [
    "li=[]\n",
    "for i in dic.values():\n",
    "    li.append(i)\n",
    "    "
   ]
  },
  {
   "cell_type": "code",
   "execution_count": 50,
   "id": "3309bc69",
   "metadata": {},
   "outputs": [],
   "source": [
    "ti=tuple(li)"
   ]
  },
  {
   "cell_type": "code",
   "execution_count": 51,
   "id": "f0909078",
   "metadata": {},
   "outputs": [
    {
     "data": {
      "text/plain": [
       "('Ragh',\n",
       " 'Ragh',\n",
       " 'Ragh',\n",
       " 'Ragh',\n",
       " 'Ragh',\n",
       " 'Ragh',\n",
       " 'Ragh',\n",
       " 'Ragh',\n",
       " 'Ragh',\n",
       " 'Ragh',\n",
       " 'Ragh',\n",
       " 'Ragh',\n",
       " 'Ragh',\n",
       " 'Ragh',\n",
       " 'Ragh',\n",
       " 'Ragh',\n",
       " 'Ragh',\n",
       " 'Ragh',\n",
       " 'Ragh',\n",
       " 'Ragh',\n",
       " 'Ragh',\n",
       " 'Ragh',\n",
       " 'Ragh',\n",
       " 'Ragh',\n",
       " 'Ragh',\n",
       " 'Ragh',\n",
       " 'Ragh',\n",
       " 'Ragh',\n",
       " 'Ragh',\n",
       " 'Ragh',\n",
       " 'Ragh',\n",
       " 'Ragh',\n",
       " 'Ragh',\n",
       " 'Ragh',\n",
       " 'Ragh',\n",
       " 'Ragh',\n",
       " 'Ragh',\n",
       " 'Ragh',\n",
       " 'Ragh',\n",
       " 'Ragh',\n",
       " 'Ragh',\n",
       " 'Ragh',\n",
       " 'Ragh',\n",
       " 'Ragh',\n",
       " 'Ragh',\n",
       " 'Ragh',\n",
       " 'Ragh',\n",
       " 'Ragh',\n",
       " 'Ragh',\n",
       " 'Ragh',\n",
       " 'Ragh',\n",
       " 'Ragh',\n",
       " 'Ragh',\n",
       " 'Ragh',\n",
       " 'Ragh',\n",
       " 'Ragh',\n",
       " 'Ragh',\n",
       " 'Ragh',\n",
       " 'Ragh',\n",
       " 'Ragh',\n",
       " 'Ragh',\n",
       " 'Ragh',\n",
       " 'Ragh',\n",
       " 'Ragh',\n",
       " 'Ragh',\n",
       " 'Ragh',\n",
       " 'Ragh',\n",
       " 'Ragh',\n",
       " 'Ragh',\n",
       " 'Ragh',\n",
       " 'Ragh',\n",
       " 'Ragh',\n",
       " 'Ragh')"
      ]
     },
     "execution_count": 51,
     "metadata": {},
     "output_type": "execute_result"
    }
   ],
   "source": [
    "ti"
   ]
  },
  {
   "cell_type": "code",
   "execution_count": 52,
   "id": "5cbb6b56",
   "metadata": {},
   "outputs": [],
   "source": [
    "d={\"comp\":\"ineuron\",\"cuourse\":\"db\",\"year\":2021}"
   ]
  },
  {
   "cell_type": "code",
   "execution_count": 58,
   "id": "89f24191",
   "metadata": {},
   "outputs": [],
   "source": [
    "l=list(d.values())"
   ]
  },
  {
   "cell_type": "code",
   "execution_count": 56,
   "id": "88892717",
   "metadata": {},
   "outputs": [
    {
     "data": {
      "text/plain": [
       "['ineuron', 'db', 2021]"
      ]
     },
     "execution_count": 56,
     "metadata": {},
     "output_type": "execute_result"
    }
   ],
   "source": [
    "l"
   ]
  },
  {
   "cell_type": "code",
   "execution_count": null,
   "id": "36073254",
   "metadata": {},
   "outputs": [],
   "source": []
  }
 ],
 "metadata": {
  "kernelspec": {
   "display_name": "Python 3",
   "language": "python",
   "name": "python3"
  },
  "language_info": {
   "codemirror_mode": {
    "name": "ipython",
    "version": 3
   },
   "file_extension": ".py",
   "mimetype": "text/x-python",
   "name": "python",
   "nbconvert_exporter": "python",
   "pygments_lexer": "ipython3",
   "version": "3.8.8"
  }
 },
 "nbformat": 4,
 "nbformat_minor": 5
}
