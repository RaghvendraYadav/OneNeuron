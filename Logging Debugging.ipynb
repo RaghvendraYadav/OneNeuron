{
 "cells": [
  {
   "cell_type": "code",
   "execution_count": 1,
   "id": "f7e813c6",
   "metadata": {},
   "outputs": [],
   "source": [
    "import logging as lg"
   ]
  },
  {
   "cell_type": "code",
   "execution_count": 2,
   "id": "f7527fb5",
   "metadata": {},
   "outputs": [],
   "source": [
    "import os"
   ]
  },
  {
   "cell_type": "code",
   "execution_count": 5,
   "id": "f39c713c",
   "metadata": {},
   "outputs": [],
   "source": [
    "os.mkdir('logging')"
   ]
  },
  {
   "cell_type": "code",
   "execution_count": 3,
   "id": "a34e28c4",
   "metadata": {},
   "outputs": [],
   "source": [
    "os.chdir(os.getcwd()+\"/logging\")"
   ]
  },
  {
   "cell_type": "code",
   "execution_count": 4,
   "id": "b6092882",
   "metadata": {},
   "outputs": [
    {
     "data": {
      "text/plain": [
       "'C:\\\\Users\\\\dell\\\\OneNeuron\\\\logging'"
      ]
     },
     "execution_count": 4,
     "metadata": {},
     "output_type": "execute_result"
    }
   ],
   "source": [
    "pwd()"
   ]
  },
  {
   "cell_type": "code",
   "execution_count": 5,
   "id": "301e3b7d",
   "metadata": {},
   "outputs": [],
   "source": [
    "lg.basicConfig(filename='test.log',level=lg.INFO,format= '%(asctime)s %(message)s')"
   ]
  },
  {
   "cell_type": "code",
   "execution_count": 6,
   "id": "880fcabd",
   "metadata": {},
   "outputs": [],
   "source": [
    "lg.info(\"I m a good boy\")"
   ]
  },
  {
   "cell_type": "code",
   "execution_count": 7,
   "id": "6937f104",
   "metadata": {},
   "outputs": [],
   "source": [
    "lg.warning('I m Warning ')"
   ]
  },
  {
   "cell_type": "code",
   "execution_count": 8,
   "id": "8972213a",
   "metadata": {},
   "outputs": [],
   "source": [
    "lg.error('i m error')"
   ]
  },
  {
   "cell_type": "code",
   "execution_count": 9,
   "id": "9e43d40c",
   "metadata": {},
   "outputs": [],
   "source": [
    "def div(a,b):\n",
    "    result=a/b\n",
    "    return result"
   ]
  },
  {
   "cell_type": "code",
   "execution_count": 10,
   "id": "27106b58",
   "metadata": {},
   "outputs": [
    {
     "ename": "ZeroDivisionError",
     "evalue": "division by zero",
     "output_type": "error",
     "traceback": [
      "\u001b[1;31m---------------------------------------------------------------------------\u001b[0m",
      "\u001b[1;31mZeroDivisionError\u001b[0m                         Traceback (most recent call last)",
      "\u001b[1;32m<ipython-input-10-df56ebf0d0aa>\u001b[0m in \u001b[0;36m<module>\u001b[1;34m\u001b[0m\n\u001b[1;32m----> 1\u001b[1;33m \u001b[0mdiv\u001b[0m\u001b[1;33m(\u001b[0m\u001b[1;36m10\u001b[0m\u001b[1;33m/\u001b[0m\u001b[1;36m0\u001b[0m\u001b[1;33m)\u001b[0m\u001b[1;33m\u001b[0m\u001b[1;33m\u001b[0m\u001b[0m\n\u001b[0m",
      "\u001b[1;31mZeroDivisionError\u001b[0m: division by zero"
     ]
    }
   ],
   "source": [
    "div(10/0)"
   ]
  },
  {
   "cell_type": "code",
   "execution_count": 12,
   "id": "07bdbd07",
   "metadata": {},
   "outputs": [],
   "source": [
    "def div(a,b):\n",
    "    try:\n",
    "        div=a/b\n",
    "        return div\n",
    "    except Exception as e:\n",
    "        print(\"Error is occured \")\n",
    "        lg.error(\"Hi This is Divison error \")\n",
    "        lg.exception(str(e))"
   ]
  },
  {
   "cell_type": "code",
   "execution_count": 13,
   "id": "e978c83b",
   "metadata": {},
   "outputs": [
    {
     "name": "stdout",
     "output_type": "stream",
     "text": [
      "Error is occured \n"
     ]
    }
   ],
   "source": [
    "div(2,0)"
   ]
  },
  {
   "cell_type": "code",
   "execution_count": 17,
   "id": "0787981b",
   "metadata": {},
   "outputs": [],
   "source": [
    "def div(a,b):\n",
    "    try:\n",
    "        lg.info(str(a)+' '+str(b))\n",
    "        div=a/b\n",
    "        return div\n",
    "    except Exception as e:\n",
    "        print(\"Error is occured \")\n",
    "        lg.error(\"Hi This is Divison error \")\n",
    "        lg.exception(str(e))"
   ]
  },
  {
   "cell_type": "code",
   "execution_count": 18,
   "id": "f236d328",
   "metadata": {},
   "outputs": [
    {
     "name": "stdout",
     "output_type": "stream",
     "text": [
      "Error is occured \n"
     ]
    }
   ],
   "source": [
    "div(10,0)"
   ]
  },
  {
   "cell_type": "code",
   "execution_count": 19,
   "id": "644f1378",
   "metadata": {},
   "outputs": [],
   "source": [
    "lg.basicConfig(filename='test1.log',level=lg.INFO,format= '%(asctime)s %(message)s')"
   ]
  },
  {
   "cell_type": "code",
   "execution_count": null,
   "id": "1c840a44",
   "metadata": {},
   "outputs": [],
   "source": [
    "def sum(*args):\n",
    "    sum=0\n",
    "    for i in args:\n",
    "        lg.info(str(i))\n",
    "        sum=sum+i\n",
    "    return sum\n",
    "        "
   ]
  },
  {
   "cell_type": "code",
   "execution_count": 21,
   "id": "58920776",
   "metadata": {},
   "outputs": [
    {
     "name": "stdout",
     "output_type": "stream",
     "text": [
      "Requirement already satisfied: ipdb in c:\\users\\dell\\anaconda3\\anaconda\\lib\\site-packages (0.13.9)\n",
      "Requirement already satisfied: toml>=0.10.2 in c:\\users\\dell\\anaconda3\\anaconda\\lib\\site-packages (from ipdb) (0.10.2)\n",
      "Requirement already satisfied: ipython>=7.17.0 in c:\\users\\dell\\anaconda3\\anaconda\\lib\\site-packages (from ipdb) (7.22.0)\n",
      "Requirement already satisfied: decorator in c:\\users\\dell\\anaconda3\\anaconda\\lib\\site-packages (from ipdb) (5.0.6)\n",
      "Requirement already satisfied: setuptools in c:\\users\\dell\\anaconda3\\anaconda\\lib\\site-packages (from ipdb) (52.0.0.post20210125)\n",
      "Requirement already satisfied: colorama in c:\\users\\dell\\anaconda3\\anaconda\\lib\\site-packages (from ipython>=7.17.0->ipdb) (0.4.4)\n",
      "Requirement already satisfied: prompt-toolkit!=3.0.0,!=3.0.1,<3.1.0,>=2.0.0 in c:\\users\\dell\\anaconda3\\anaconda\\lib\\site-packages (from ipython>=7.17.0->ipdb) (3.0.17)\n",
      "Requirement already satisfied: pickleshare in c:\\users\\dell\\anaconda3\\anaconda\\lib\\site-packages (from ipython>=7.17.0->ipdb) (0.7.5)\n",
      "Requirement already satisfied: pygments in c:\\users\\dell\\anaconda3\\anaconda\\lib\\site-packages (from ipython>=7.17.0->ipdb) (2.8.1)\n",
      "Requirement already satisfied: backcall in c:\\users\\dell\\anaconda3\\anaconda\\lib\\site-packages (from ipython>=7.17.0->ipdb) (0.2.0)\n",
      "Requirement already satisfied: traitlets>=4.2 in c:\\users\\dell\\anaconda3\\anaconda\\lib\\site-packages (from ipython>=7.17.0->ipdb) (5.0.5)\n",
      "Requirement already satisfied: jedi>=0.16 in c:\\users\\dell\\anaconda3\\anaconda\\lib\\site-packages (from ipython>=7.17.0->ipdb) (0.17.2)\n",
      "Requirement already satisfied: parso<0.8.0,>=0.7.0 in c:\\users\\dell\\anaconda3\\anaconda\\lib\\site-packages (from jedi>=0.16->ipython>=7.17.0->ipdb) (0.7.0)\n",
      "Requirement already satisfied: wcwidth in c:\\users\\dell\\anaconda3\\anaconda\\lib\\site-packages (from prompt-toolkit!=3.0.0,!=3.0.1,<3.1.0,>=2.0.0->ipython>=7.17.0->ipdb) (0.2.5)\n",
      "Requirement already satisfied: ipython-genutils in c:\\users\\dell\\anaconda3\\anaconda\\lib\\site-packages (from traitlets>=4.2->ipython>=7.17.0->ipdb) (0.2.0)\n"
     ]
    }
   ],
   "source": [
    "! pip install ipdb"
   ]
  },
  {
   "cell_type": "code",
   "execution_count": 22,
   "id": "03dd32d4",
   "metadata": {},
   "outputs": [],
   "source": [
    "import ipdb"
   ]
  },
  {
   "cell_type": "code",
   "execution_count": null,
   "id": "67c603a3",
   "metadata": {},
   "outputs": [],
   "source": []
  }
 ],
 "metadata": {
  "kernelspec": {
   "display_name": "Python 3",
   "language": "python",
   "name": "python3"
  },
  "language_info": {
   "codemirror_mode": {
    "name": "ipython",
    "version": 3
   },
   "file_extension": ".py",
   "mimetype": "text/x-python",
   "name": "python",
   "nbconvert_exporter": "python",
   "pygments_lexer": "ipython3",
   "version": "3.8.8"
  }
 },
 "nbformat": 4,
 "nbformat_minor": 5
}
